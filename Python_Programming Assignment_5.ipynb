{
 "cells": [
  {
   "cell_type": "code",
   "execution_count": 1,
   "id": "e263981a",
   "metadata": {},
   "outputs": [],
   "source": [
    "# 1. Write a Python Program to Find LCM.\n",
    "# 2. Write a Python Program to Find HCF.\n",
    "# 3. Write a Python Program to Convert Decimal to Binary, Octal and Hexadecimal.\n",
    "# 4. Write a Python Program To Find ASCII value of a character.\n",
    "# 5. Write a Python Program to Make a Simple Calculator with 4 basic mathematical operations."
   ]
  },
  {
   "cell_type": "markdown",
   "id": "ed26e24f",
   "metadata": {},
   "source": [
    "##### 1. Write a Python Program to Find LCM."
   ]
  },
  {
   "cell_type": "markdown",
   "id": "2460f7f8",
   "metadata": {},
   "source": [
    "##### Answer 1"
   ]
  },
  {
   "cell_type": "code",
   "execution_count": 8,
   "id": "6839533d",
   "metadata": {},
   "outputs": [
    {
     "name": "stdout",
     "output_type": "stream",
     "text": [
      "Enter First Number::72\n",
      "Enter Second Number::120\n",
      "LCM of 72 and 120 is 360\n"
     ]
    }
   ],
   "source": [
    "num1 = int(input(\"Enter First Number::\"))\n",
    "num2 =int(input(\"Enter Second Number::\"))\n",
    "L = max(num1,num2)\n",
    "for L in range(1,num1*num2):\n",
    "    if L%num1==0 and L%num2==0:\n",
    "        break\n",
    "print(f\"LCM of {num1} and {num2} is {L}\")"
   ]
  },
  {
   "cell_type": "markdown",
   "id": "cb3f143c",
   "metadata": {},
   "source": [
    "##### 2. Write a Python Program to Find HCF."
   ]
  },
  {
   "cell_type": "markdown",
   "id": "c41e510e",
   "metadata": {},
   "source": [
    "##### Answer 2"
   ]
  },
  {
   "cell_type": "code",
   "execution_count": 12,
   "id": "63913b9e",
   "metadata": {},
   "outputs": [
    {
     "name": "stdout",
     "output_type": "stream",
     "text": [
      "Enter First Number36\n",
      "Enter Second Number24\n",
      "HCF of 36 and 24 is 12\n"
     ]
    }
   ],
   "source": [
    "num1 = int(input(\"Enter First Number\"))\n",
    "num2 =int(input(\"Enter Second Number\"))\n",
    "\n",
    "H=min(num1,num2)\n",
    "\n",
    "while(H>0):\n",
    "    if num1%H==0 and num2%H ==0:\n",
    "        break\n",
    "    H=H-1\n",
    "print(f\"HCF of {num1} and {num2} is {H}\")"
   ]
  },
  {
   "cell_type": "markdown",
   "id": "840ec77a",
   "metadata": {},
   "source": [
    "##### 3. Write a Python Program to Convert Decimal to Binary, Octal and Hexadecimal."
   ]
  },
  {
   "cell_type": "code",
   "execution_count": 81,
   "id": "90423ad3",
   "metadata": {},
   "outputs": [
    {
     "name": "stdout",
     "output_type": "stream",
     "text": [
      "Enter One Number::16\n",
      "Bianry of 16 is 10000\n",
      "Octal of 16 is 20\n",
      "Hexadecimal of 16 is 10\n"
     ]
    }
   ],
   "source": [
    "num = int(input(\"Enter One Number::\"))\n",
    "num1=num\n",
    "num2=num\n",
    "num3=num\n",
    "binary=[]\n",
    "octal=[]\n",
    "hexa=[]\n",
    "while num>0:\n",
    "    temp = num%2\n",
    "    binary.append(str(temp))\n",
    "    num=num//2\n",
    "print(\"Bianry of\",num1,\"is\" ,\"\".join(binary[::-1]))    \n",
    "while num1>0:\n",
    "    temp = num1%8\n",
    "    octal.append(str(temp))\n",
    "    num1=num1//8\n",
    "print(\"Octal of\",num2,\"is\" ,\"\".join(octal[::-1]))\n",
    "while num2>0:\n",
    "    temp = num2%16\n",
    "    hexa.append(str(temp))\n",
    "    num2=num2//16\n",
    "print(\"Hexadecimal of\",num3,\"is\" ,\"\".join(hexa[::-1]))"
   ]
  },
  {
   "cell_type": "markdown",
   "id": "7d7cd27a",
   "metadata": {},
   "source": [
    "###### 4. Write a Python Program To Find ASCII value of a character."
   ]
  },
  {
   "cell_type": "markdown",
   "id": "92b81a05",
   "metadata": {},
   "source": [
    "##### Answer 4"
   ]
  },
  {
   "cell_type": "code",
   "execution_count": 67,
   "id": "f74a7516",
   "metadata": {},
   "outputs": [
    {
     "name": "stdout",
     "output_type": "stream",
     "text": [
      "Enter a Character onlyABC\n",
      "ASCII value of A is 65\n"
     ]
    }
   ],
   "source": [
    "ch = input(\"Enter a Character only\")[0]\n",
    "print(f\"ASCII value of {ch} is {ord(ch)}\")"
   ]
  },
  {
   "cell_type": "markdown",
   "id": "86a4d0c0",
   "metadata": {},
   "source": [
    "#### 5. Write a Python Program to Make a Simple Calculator with 4 basic mathematical operations."
   ]
  },
  {
   "cell_type": "markdown",
   "id": "41706c87",
   "metadata": {},
   "source": [
    "##### Answer 5"
   ]
  },
  {
   "cell_type": "code",
   "execution_count": 77,
   "id": "e5186630",
   "metadata": {},
   "outputs": [
    {
     "name": "stdout",
     "output_type": "stream",
     "text": [
      "Enter First Number::12\n",
      "Enter Second Number::0\n",
      "Enter Operation {+ ,- ,*, /}/\n",
      "Divide By Zero\n"
     ]
    }
   ],
   "source": [
    "num1=float(input(\"Enter First Number::\"))\n",
    "num2=float(input(\"Enter Second Number::\"))\n",
    "\n",
    "ch=input(\"Enter Operation {+ ,- ,*, /}\")[0]\n",
    "if ch=='+':\n",
    "    print(f\"Addition is {num1+num2}\")\n",
    "elif ch=='-':\n",
    "    print(f\"Subtraction is {num1-num2}\")\n",
    "elif ch=='*':\n",
    "    print(f\"Subtraction is {num1*num2}\")\n",
    "elif ch==\"/\":\n",
    "    if num2!=0:\n",
    "        print(f\"Subtraction is {num1/num2}\")\n",
    "    else:\n",
    "        print(f\"Divide By Zero\")"
   ]
  },
  {
   "cell_type": "code",
   "execution_count": null,
   "id": "efc64211",
   "metadata": {},
   "outputs": [],
   "source": []
  }
 ],
 "metadata": {
  "kernelspec": {
   "display_name": "Python 3 (ipykernel)",
   "language": "python",
   "name": "python3"
  },
  "language_info": {
   "codemirror_mode": {
    "name": "ipython",
    "version": 3
   },
   "file_extension": ".py",
   "mimetype": "text/x-python",
   "name": "python",
   "nbconvert_exporter": "python",
   "pygments_lexer": "ipython3",
   "version": "3.9.12"
  }
 },
 "nbformat": 4,
 "nbformat_minor": 5
}
