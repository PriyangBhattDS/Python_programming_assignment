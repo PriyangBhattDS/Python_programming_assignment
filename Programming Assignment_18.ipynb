{
 "cells": [
  {
   "cell_type": "code",
   "execution_count": 1,
   "id": "34751e8d",
   "metadata": {},
   "outputs": [],
   "source": [
    "# Question 1\n",
    "# Create a function that takes a list of non-negative integers and strings and return a new list without the strings.\n",
    "# Examples\n",
    "# filter_list([1, 2, \"a\", \"b\"]) ➞ [1, 2]\n",
    "\n",
    "# filter_list([1, \"a\", \"b\", 0, 15]) ➞ [1, 0, 15]\n",
    "\n",
    "# filter_list([1, 2, \"aasf\", \"1\", \"123\", 123]) ➞ [1, 2, 123]\n",
    "\n",
    "# Question 2\n",
    "# The \"Reverser\" takes a string as input and returns that string in reverse order, with the opposite case.\n",
    "# Examples\n",
    "# reverse(\"Hello World\") ➞ \"DLROw OLLEh\"\n",
    "\n",
    "# reverse(\"ReVeRsE\") ➞ \"eSrEvEr\"\n",
    "\n",
    "# reverse(\"Radar\") ➞ \"RADAr\"\n",
    "\n",
    "# Question 3\n",
    "# You can assign variables from lists like this:\n",
    "# lst = [1, 2, 3, 4, 5, 6]\n",
    "# first = lst[0]\n",
    "# middle = lst[1:-1]\n",
    "# last = lst[-1]\n",
    "\n",
    "# print(first) ➞ outputs 1\n",
    "# print(middle) ➞ outputs [2, 3, 4, 5]\n",
    "# print(last) ➞ outputs 6\n",
    "# With Python 3, you can assign variables from lists in a much more succinct way. Create variables first, middle and last from the given list using destructuring assignment (check the Resources tab for some examples), where:\n",
    "# first  ➞ 1\n",
    "\n",
    "# middle ➞ [2, 3, 4, 5]\n",
    "\n",
    "# last ➞ 6\n",
    "# Your task is to unpack the list writeyourcodehere into three variables, being first, middle, and last, with middle being everything in between the first and last element. Then print all three variables.\n",
    "\n",
    "# Question 4\n",
    "# Write a function that calculates the factorial of a number recursively.\n",
    "# Examples\n",
    "# factorial(5) ➞ 120\n",
    "\n",
    "# factorial(3) ➞ 6\n",
    "\n",
    "# factorial(1) ➞ 1\n",
    "\n",
    "# factorial(0) ➞ 1\n",
    "\n",
    "# Question 5\n",
    "# Write a function that moves all elements of one type to the end of the list.\n",
    "# Examples\n",
    "# move_to_end([1, 3, 2, 4, 4, 1], 1) ➞ [3, 2, 4, 4, 1, 1]\n",
    "# # Move all the 1s to the end of the array.\n",
    "\n",
    "# move_to_end([7, 8, 9, 1, 2, 3, 4], 9) ➞ [7, 8, 1, 2, 3, 4, 9]\n",
    "\n",
    "# move_to_end([\"a\", \"a\", \"a\", \"b\"], \"a\") ➞ [\"b\", \"a\", \"a\", \"a\"]\n",
    "\n",
    "\n"
   ]
  },
  {
   "cell_type": "code",
   "execution_count": 35,
   "id": "d9b76edf",
   "metadata": {},
   "outputs": [],
   "source": [
    "# Question 1\n",
    "# Create a function that takes a list of non-negative integers and strings and return a new list without the strings.\n",
    "# Examples\n",
    "# filter_list([1, 2, \"a\", \"b\"]) ➞ [1, 2]\n",
    "\n",
    "# filter_list([1, \"a\", \"b\", 0, 15]) ➞ [1, 0, 15]\n",
    "\n",
    "# filter_list([1, 2, \"aasf\", \"1\", \"123\", 123]) ➞ [1, 2, 123]"
   ]
  },
  {
   "cell_type": "markdown",
   "id": "204e18b9",
   "metadata": {},
   "source": [
    "#### Answer 1"
   ]
  },
  {
   "cell_type": "code",
   "execution_count": 3,
   "id": "2ca40d8e",
   "metadata": {},
   "outputs": [],
   "source": [
    "def filter_list(list1):\n",
    "    digit=[]\n",
    "    for item in list1:\n",
    "        if type(item)==int:\n",
    "            digit.append(item)\n",
    "    return digit"
   ]
  },
  {
   "cell_type": "code",
   "execution_count": 4,
   "id": "85fe5328",
   "metadata": {},
   "outputs": [
    {
     "data": {
      "text/plain": [
       "[1, 2]"
      ]
     },
     "execution_count": 4,
     "metadata": {},
     "output_type": "execute_result"
    }
   ],
   "source": [
    "filter_list([1, 2, \"a\", \"b\"])"
   ]
  },
  {
   "cell_type": "code",
   "execution_count": 5,
   "id": "47d35511",
   "metadata": {},
   "outputs": [
    {
     "data": {
      "text/plain": [
       "[1, 0, 15]"
      ]
     },
     "execution_count": 5,
     "metadata": {},
     "output_type": "execute_result"
    }
   ],
   "source": [
    "filter_list([1, \"a\", \"b\", 0, 15]) "
   ]
  },
  {
   "cell_type": "code",
   "execution_count": 6,
   "id": "5199c741",
   "metadata": {},
   "outputs": [
    {
     "data": {
      "text/plain": [
       "[1, 2, 123]"
      ]
     },
     "execution_count": 6,
     "metadata": {},
     "output_type": "execute_result"
    }
   ],
   "source": [
    "filter_list([1, 2, \"aasf\", \"1\", \"123\", 123])"
   ]
  },
  {
   "cell_type": "code",
   "execution_count": 7,
   "id": "b53d2997",
   "metadata": {},
   "outputs": [],
   "source": [
    "# Question 2\n",
    "# The \"Reverser\" takes a string as input and returns that string in reverse order, with the opposite case.\n",
    "# Examples\n",
    "# reverse(\"Hello World\") ➞ \"DLROw OLLEh\"\n",
    "\n",
    "# reverse(\"ReVeRsE\") ➞ \"eSrEvEr\"\n",
    "\n",
    "# reverse(\"Radar\") ➞ \"RADAr\""
   ]
  },
  {
   "cell_type": "markdown",
   "id": "af465cad",
   "metadata": {},
   "source": [
    "#### Answer 2"
   ]
  },
  {
   "cell_type": "code",
   "execution_count": 8,
   "id": "154e4543",
   "metadata": {},
   "outputs": [],
   "source": [
    "def reverse(str1):\n",
    "    return str1[::-1].swapcase()"
   ]
  },
  {
   "cell_type": "code",
   "execution_count": 9,
   "id": "f4c529c8",
   "metadata": {},
   "outputs": [
    {
     "data": {
      "text/plain": [
       "'DLROw OLLEh'"
      ]
     },
     "execution_count": 9,
     "metadata": {},
     "output_type": "execute_result"
    }
   ],
   "source": [
    "reverse(\"Hello World\") "
   ]
  },
  {
   "cell_type": "code",
   "execution_count": 10,
   "id": "cfed60d2",
   "metadata": {},
   "outputs": [
    {
     "data": {
      "text/plain": [
       "'eSrEvEr'"
      ]
     },
     "execution_count": 10,
     "metadata": {},
     "output_type": "execute_result"
    }
   ],
   "source": [
    "reverse(\"ReVeRsE\")"
   ]
  },
  {
   "cell_type": "code",
   "execution_count": 11,
   "id": "37908e39",
   "metadata": {},
   "outputs": [
    {
     "data": {
      "text/plain": [
       "'RADAr'"
      ]
     },
     "execution_count": 11,
     "metadata": {},
     "output_type": "execute_result"
    }
   ],
   "source": [
    "reverse(\"Radar\")"
   ]
  },
  {
   "cell_type": "code",
   "execution_count": 12,
   "id": "02b36113",
   "metadata": {},
   "outputs": [],
   "source": [
    "# Question 3\n",
    "# You can assign variables from lists like this:\n",
    "# lst = [1, 2, 3, 4, 5, 6]\n",
    "# first = lst[0]\n",
    "# middle = lst[1:-1]\n",
    "# last = lst[-1]\n",
    "\n",
    "# print(first) ➞ outputs 1\n",
    "# print(middle) ➞ outputs [2, 3, 4, 5]\n",
    "# print(last) ➞ outputs 6\n",
    "# With Python 3, you can assign variables from lists in a much more succinct way. \n",
    "# Create variables first, middle and last from the given list \n",
    "# using destructuring assignment (check the Resources tab for some examples), where:\n",
    "# first  ➞ 1\n",
    "\n",
    "# middle ➞ [2, 3, 4, 5]\n",
    "\n",
    "# last ➞ 6\n",
    "# Your task is to unpack the list writeyourcodehere into three variables, \n",
    "# being first, middle, and last, with middle being everything in between the first and last element. \n",
    "# Then print all three variables.\n"
   ]
  },
  {
   "cell_type": "markdown",
   "id": "d8253961",
   "metadata": {},
   "source": [
    "#### Answer 3"
   ]
  },
  {
   "cell_type": "code",
   "execution_count": 13,
   "id": "454d32a8",
   "metadata": {},
   "outputs": [],
   "source": [
    "lst = [1, 2, 3, 4, 5, 6]\n",
    "first = lst[0]\n",
    "middle = lst[1:-1]\n",
    "last = lst[-1]"
   ]
  },
  {
   "cell_type": "code",
   "execution_count": 14,
   "id": "aef21e50",
   "metadata": {},
   "outputs": [],
   "source": [
    "def first_middle_last(lst):\n",
    "    first = lst[0]\n",
    "    middle = lst[1:-1]\n",
    "    last = lst[-1]\n",
    "    print(f\"first part of the list is {first}\")\n",
    "    print(f\"Middle Part of the list is {middle}\")\n",
    "    print(f\"Third Part of the list is {last}\")    "
   ]
  },
  {
   "cell_type": "code",
   "execution_count": 15,
   "id": "d6e8d757",
   "metadata": {},
   "outputs": [
    {
     "name": "stdout",
     "output_type": "stream",
     "text": [
      "first part of the list is 1\n",
      "Middle Part of the list is [2, 3, 4, 5]\n",
      "Third Part of the list is 6\n"
     ]
    }
   ],
   "source": [
    "first_middle_last([1, 2, 3, 4, 5, 6])"
   ]
  },
  {
   "cell_type": "code",
   "execution_count": 16,
   "id": "a1c2333a",
   "metadata": {},
   "outputs": [],
   "source": [
    "# Question 4\n",
    "# Write a function that calculates the factorial of a number recursively.\n",
    "# Examples\n",
    "# factorial(5) ➞ 120\n",
    "\n",
    "# factorial(3) ➞ 6\n",
    "\n",
    "# factorial(1) ➞ 1\n",
    "\n",
    "# factorial(0) ➞ 1"
   ]
  },
  {
   "cell_type": "markdown",
   "id": "69bcafd0",
   "metadata": {},
   "source": [
    "#### Answer 4"
   ]
  },
  {
   "cell_type": "code",
   "execution_count": 17,
   "id": "fd00ff8f",
   "metadata": {},
   "outputs": [],
   "source": [
    "def factorial(num):\n",
    "    fact=1\n",
    "    for i in range(1,num+1):\n",
    "        fact = fact *i\n",
    "    return fact"
   ]
  },
  {
   "cell_type": "code",
   "execution_count": 18,
   "id": "91657080",
   "metadata": {},
   "outputs": [
    {
     "data": {
      "text/plain": [
       "120"
      ]
     },
     "execution_count": 18,
     "metadata": {},
     "output_type": "execute_result"
    }
   ],
   "source": [
    " factorial(5)"
   ]
  },
  {
   "cell_type": "code",
   "execution_count": 19,
   "id": "3f7d4fab",
   "metadata": {},
   "outputs": [
    {
     "data": {
      "text/plain": [
       "6"
      ]
     },
     "execution_count": 19,
     "metadata": {},
     "output_type": "execute_result"
    }
   ],
   "source": [
    "factorial(3) "
   ]
  },
  {
   "cell_type": "code",
   "execution_count": 20,
   "id": "1d022b90",
   "metadata": {},
   "outputs": [
    {
     "data": {
      "text/plain": [
       "1"
      ]
     },
     "execution_count": 20,
     "metadata": {},
     "output_type": "execute_result"
    }
   ],
   "source": [
    "factorial(1)"
   ]
  },
  {
   "cell_type": "code",
   "execution_count": 21,
   "id": "04bfcfab",
   "metadata": {},
   "outputs": [
    {
     "data": {
      "text/plain": [
       "1"
      ]
     },
     "execution_count": 21,
     "metadata": {},
     "output_type": "execute_result"
    }
   ],
   "source": [
    "factorial(0)"
   ]
  },
  {
   "cell_type": "code",
   "execution_count": 22,
   "id": "b51d863a",
   "metadata": {},
   "outputs": [],
   "source": [
    "# Question 5\n",
    "# Write a function that moves all elements of one type to the end of the list.\n",
    "# Examples\n",
    "# move_to_end([1, 3, 2, 4, 4, 1], 1) ➞ [3, 2, 4, 4, 1, 1]\n",
    "# # Move all the 1s to the end of the array.\n",
    "\n",
    "# move_to_end([7, 8, 9, 1, 2, 3, 4], 9) ➞ [7, 8, 1, 2, 3, 4, 9]\n",
    "\n",
    "# move_to_end([\"a\", \"a\", \"a\", \"b\"], \"a\") ➞ [\"b\", \"a\", \"a\", \"a\"]"
   ]
  },
  {
   "cell_type": "markdown",
   "id": "3ba5776f",
   "metadata": {},
   "source": [
    "#### Answer 5"
   ]
  },
  {
   "cell_type": "code",
   "execution_count": 31,
   "id": "61ef7766",
   "metadata": {},
   "outputs": [],
   "source": [
    "def move_to_end(lst,num):\n",
    "    last_item=[]\n",
    "    first_item= []\n",
    "    for item in lst:\n",
    "        if item==num:\n",
    "            last_item.append(item)\n",
    "        else:\n",
    "            first_item.append(item)\n",
    "    return first_item + last_item"
   ]
  },
  {
   "cell_type": "code",
   "execution_count": 32,
   "id": "bc323d6f",
   "metadata": {},
   "outputs": [
    {
     "data": {
      "text/plain": [
       "[3, 2, 4, 4, 1, 1]"
      ]
     },
     "execution_count": 32,
     "metadata": {},
     "output_type": "execute_result"
    }
   ],
   "source": [
    "#move_to_end([1, 3, 2, 4, 4, 1], 1)"
   ]
  },
  {
   "cell_type": "code",
   "execution_count": 33,
   "id": "0b9ac5f0",
   "metadata": {},
   "outputs": [
    {
     "data": {
      "text/plain": [
       "[7, 8, 1, 2, 3, 4, 9]"
      ]
     },
     "execution_count": 33,
     "metadata": {},
     "output_type": "execute_result"
    }
   ],
   "source": [
    "move_to_end([7, 8, 9, 1, 2, 3, 4], 9)"
   ]
  },
  {
   "cell_type": "code",
   "execution_count": 34,
   "id": "692fc6c3",
   "metadata": {},
   "outputs": [
    {
     "data": {
      "text/plain": [
       "['b', 'a', 'a', 'a']"
      ]
     },
     "execution_count": 34,
     "metadata": {},
     "output_type": "execute_result"
    }
   ],
   "source": [
    "move_to_end([\"a\", \"a\", \"a\", \"b\"], \"a\")"
   ]
  },
  {
   "cell_type": "code",
   "execution_count": null,
   "id": "e9022e70",
   "metadata": {},
   "outputs": [],
   "source": []
  }
 ],
 "metadata": {
  "kernelspec": {
   "display_name": "Python 3 (ipykernel)",
   "language": "python",
   "name": "python3"
  },
  "language_info": {
   "codemirror_mode": {
    "name": "ipython",
    "version": 3
   },
   "file_extension": ".py",
   "mimetype": "text/x-python",
   "name": "python",
   "nbconvert_exporter": "python",
   "pygments_lexer": "ipython3",
   "version": "3.9.12"
  }
 },
 "nbformat": 4,
 "nbformat_minor": 5
}
