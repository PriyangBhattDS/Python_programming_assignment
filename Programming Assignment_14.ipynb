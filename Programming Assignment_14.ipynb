{
 "cells": [
  {
   "cell_type": "code",
   "execution_count": 1,
   "metadata": {},
   "outputs": [],
   "source": [
    "# Question 1:\n",
    "\n",
    "# Define a class with a generator which can iterate the numbers, \n",
    "# which are divisible by 7, between a given range 0 and n.\n",
    "\n",
    "# Question 2:\n",
    "# Write a program to compute the frequency of the words from the input. The output should output after sorting the key alphanumerically. \n",
    "\n",
    "# Suppose the following input is supplied to the program:\n",
    "\n",
    "# New to Python or choosing between Python 2 and Python 3? Read Python 2 or Python 3.\n",
    "\n",
    "# Then, the output should be:\n",
    "\n",
    "# 2:2\n",
    "\n",
    "# 3.:1\n",
    "\n",
    "# 3?:1\n",
    "\n",
    "# New:1\n",
    "\n",
    "# Python:5\n",
    "\n",
    "# Read:1\n",
    "\n",
    "# and:1\n",
    "\n",
    "# between:1\n",
    "\n",
    "# choosing:1\n",
    "\n",
    "# or:2\n",
    "\n",
    "# to:1\n",
    "\n",
    "# Question 3:\n",
    "\n",
    "# Define a class Person and its two child classes: \n",
    "# Male and Female. \n",
    "# All classes have a method \"getGender\" \n",
    "# which can print \"Male\" for Male class and \"Female\" for Female class.\n",
    "\n",
    "# Question 4:\n",
    "# Please write a program to generate all \n",
    "# sentences where subject is in [\"I\", \"You\"] and\n",
    "# verb is in [\"Play\", \"Love\"] and the object is in [\"Hockey\",\"Football\"].\n",
    "\n",
    "\n",
    "# Question 5:\n",
    "# Please write a program to compress and decompress \n",
    "# the string \"hello world!helloworld!helloworld!hello world!\".\n",
    "\n",
    "# Question 6:\n",
    "# Please write a binary search \n",
    "# function which searches an item in a sorted list. \n",
    "# The function should return the index of element to \n",
    "# be searched in the list.\n"
   ]
  },
  {
   "cell_type": "code",
   "execution_count": 1,
   "metadata": {},
   "outputs": [],
   "source": [
    "# Question 1:\n",
    "\n",
    "# Define a class with a generator which can iterate the numbers, \n",
    "# which are divisible by 7, between a given range 0 and n."
   ]
  },
  {
   "cell_type": "markdown",
   "metadata": {},
   "source": [
    "##### Answer 1"
   ]
  },
  {
   "cell_type": "code",
   "execution_count": 15,
   "metadata": {},
   "outputs": [],
   "source": [
    "def div_seven(num):\n",
    "    for i in range(1,num+1):\n",
    "        if i%7==0:\n",
    "            yield(i)"
   ]
  },
  {
   "cell_type": "code",
   "execution_count": 16,
   "metadata": {},
   "outputs": [
    {
     "name": "stdout",
     "output_type": "stream",
     "text": [
      "Enter a Number20\n",
      "7\n",
      "14\n"
     ]
    }
   ],
   "source": [
    "num = int(input(\"Enter a Number\"))\n",
    "gen = div_seven(num)\n",
    "for i in gen:\n",
    "    print(i)"
   ]
  },
  {
   "cell_type": "code",
   "execution_count": 17,
   "metadata": {},
   "outputs": [],
   "source": [
    "# Question 2:\n",
    "# Write a program to compute the frequency of the words from the input. The output should output after sorting the key alphanumerically. \n",
    "\n",
    "# Suppose the following input is supplied to the program:\n",
    "\n",
    "# New to Python or choosing between Python 2 and Python 3? Read Python 2 or Python 3.\n",
    "\n",
    "# Then, the output should be:\n",
    "\n",
    "# 2:2\n",
    "\n",
    "# 3.:1\n",
    "\n",
    "# 3?:1\n",
    "\n",
    "# New:1\n",
    "\n",
    "# Python:5\n",
    "\n",
    "# Read:1\n",
    "\n",
    "# and:1\n",
    "\n",
    "# between:1\n",
    "\n",
    "# choosing:1\n",
    "\n",
    "# or:2\n",
    "\n",
    "# to:1\n"
   ]
  },
  {
   "cell_type": "markdown",
   "metadata": {},
   "source": [
    "##### Answer 2"
   ]
  },
  {
   "cell_type": "code",
   "execution_count": 43,
   "metadata": {},
   "outputs": [
    {
     "name": "stdout",
     "output_type": "stream",
     "text": [
      "Enter your wordsNew to Python or choosing between Python 2 and Python 3? Read Python 2 or Python 3.\n",
      "New : 1\n",
      "to : 1\n",
      "Python : 5\n",
      "or : 2\n",
      "choosing : 1\n",
      "between : 1\n",
      "2 : 2\n",
      "and : 1\n",
      "3? : 1\n",
      "Read : 1\n",
      "3. : 1\n"
     ]
    }
   ],
   "source": [
    "words  =input(\"Enter your words\").split(\" \")\n",
    "d = {}\n",
    "for word in words:\n",
    "    d[word] = d.get(word,0) + 1\n",
    "for key,value in d.items():\n",
    "    print(key,\":\",value)"
   ]
  },
  {
   "cell_type": "code",
   "execution_count": 23,
   "metadata": {},
   "outputs": [],
   "source": [
    "# Question 3:\n",
    "\n",
    "# Define a class Person and its two child classes: \n",
    "# Male and Female. \n",
    "# All classes have a method \"getGender\" \n",
    "# which can print \"Male\" for Male class and \"Female\" for Female class."
   ]
  },
  {
   "cell_type": "markdown",
   "metadata": {},
   "source": [
    "##### Answer 3"
   ]
  },
  {
   "cell_type": "code",
   "execution_count": 41,
   "metadata": {},
   "outputs": [],
   "source": [
    "class Person:\n",
    "    def __init__(self):\n",
    "        pass\n",
    "class Male(Person):\n",
    "    def getGender(self):\n",
    "        print(\"Male\")\n",
    "class Female(Person):\n",
    "    def getGender(self):\n",
    "        print(\"Female\")"
   ]
  },
  {
   "cell_type": "code",
   "execution_count": 43,
   "metadata": {},
   "outputs": [
    {
     "name": "stdout",
     "output_type": "stream",
     "text": [
      "Male\n",
      "Female\n"
     ]
    }
   ],
   "source": [
    "stu1 = Male()\n",
    "stu2 =Female()\n",
    "stu1.getGender()\n",
    "stu2.getGender()"
   ]
  },
  {
   "cell_type": "code",
   "execution_count": 24,
   "metadata": {},
   "outputs": [],
   "source": [
    "# Question 4:\n",
    "# Please write a program to generate all \n",
    "# sentences where subject is in [\"I\", \"You\"] and\n",
    "# verb is in [\"Play\", \"Love\"] and the object is in [\"Hockey\",\"Football\"]."
   ]
  },
  {
   "cell_type": "markdown",
   "metadata": {},
   "source": [
    "##### Asnwer 4"
   ]
  },
  {
   "cell_type": "code",
   "execution_count": 30,
   "metadata": {},
   "outputs": [],
   "source": [
    "subject =  [\"I\", \"You\"]\n",
    "verb = [\"Play\", \"Love\"]\n",
    "object1 = [\"Hockey\",\"Football\"]"
   ]
  },
  {
   "cell_type": "code",
   "execution_count": 36,
   "metadata": {},
   "outputs": [
    {
     "name": "stdout",
     "output_type": "stream",
     "text": [
      "I Play Hockey\n",
      "I Play Football\n",
      "I Love Hockey\n",
      "I Love Football\n",
      "You Play Hockey\n",
      "You Play Football\n",
      "You Love Hockey\n",
      "You Love Football\n"
     ]
    }
   ],
   "source": [
    "for s in subject:\n",
    "    for v in verb:\n",
    "        for o in object1:\n",
    "            print(s,v,o)"
   ]
  },
  {
   "cell_type": "code",
   "execution_count": 37,
   "metadata": {},
   "outputs": [],
   "source": [
    "# Question 5:\n",
    "# Please write a program to compress and decompress \n",
    "# the string \"hello world!helloworld!helloworld!hello world!\"."
   ]
  },
  {
   "cell_type": "markdown",
   "metadata": {},
   "source": [
    "##### Answer 5"
   ]
  },
  {
   "cell_type": "code",
   "execution_count": 24,
   "metadata": {},
   "outputs": [
    {
     "name": "stdout",
     "output_type": "stream",
     "text": [
      "String Size before compression 95\n",
      "String Size after compression 59\n",
      "Decode original string hello world!helloworld!helloworld!hello world!\n"
     ]
    }
   ],
   "source": [
    "import zlib,sys\n",
    "a = \"hello world!helloworld!helloworld!hello world!\"\n",
    "print(f\"String Size before compression {sys.getsizeof(a)}\")\n",
    "a = zlib.compress(a.encode())\n",
    "print(f\"String Size after compression {sys.getsizeof(a)}\")\n",
    "print(f\"Decode original string {zlib.decompress(a).decode()}\")"
   ]
  },
  {
   "cell_type": "code",
   "execution_count": 38,
   "metadata": {},
   "outputs": [],
   "source": [
    "# Question 6:\n",
    "# Please write a binary search \n",
    "# function which searches an item in a sorted list. \n",
    "# The function should return the index of element to \n",
    "# be searched in the list."
   ]
  },
  {
   "cell_type": "markdown",
   "metadata": {},
   "source": [
    "##### Answer 6"
   ]
  },
  {
   "cell_type": "code",
   "execution_count": 18,
   "metadata": {},
   "outputs": [
    {
     "name": "stdout",
     "output_type": "stream",
     "text": [
      "Enter Number to Search9\n",
      "9 Found\n"
     ]
    }
   ],
   "source": [
    "num = int(input(\"Enter Number to Search\"))\n",
    "l1 = [1,2,3,4,5,6,7,8,9]\n",
    "first = l1.index(l1[0])\n",
    "last = l1.index(l1[-1])\n",
    "mid = int((first + last) /2)\n",
    "if l1[mid] in l1[:mid]:\n",
    "    print(f\"{num} Found\")\n",
    "elif num in l1[:mid]:\n",
    "    print(f\"{num} found\")\n",
    "elif num in l1[mid:]:\n",
    "    print(f\"{num} Found\")\n",
    "else:\n",
    "    print(f\"{num} is not in the list\")"
   ]
  },
  {
   "cell_type": "code",
   "execution_count": null,
   "metadata": {},
   "outputs": [],
   "source": []
  }
 ],
 "metadata": {
  "kernelspec": {
   "display_name": "Python 3",
   "language": "python",
   "name": "python3"
  },
  "language_info": {
   "codemirror_mode": {
    "name": "ipython",
    "version": 3
   },
   "file_extension": ".py",
   "mimetype": "text/x-python",
   "name": "python",
   "nbconvert_exporter": "python",
   "pygments_lexer": "ipython3",
   "version": "3.7.9"
  }
 },
 "nbformat": 4,
 "nbformat_minor": 4
}
