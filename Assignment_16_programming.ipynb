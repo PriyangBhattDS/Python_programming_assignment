{
 "cells": [
  {
   "cell_type": "code",
   "execution_count": 1,
   "id": "83436254",
   "metadata": {},
   "outputs": [],
   "source": [
    "# Question1. Write a function that stutters a word as if someone is struggling to read it. The first two letters are repeated twice with an ellipsis ... and space after each, and then the word is pronounced with a question mark ?.\n",
    "# Examples\n",
    "# stutter(\"incredible\") ➞ \"in... in... incredible?\"\n",
    "\n",
    "# stutter(\"enthusiastic\") ➞ \"en... en... enthusiastic?\"\n",
    "\n",
    "# stutter(\"outstanding\") ➞ \"ou... ou... outstanding?\"\n",
    "\n",
    "# Hint :- Assume all input is in lower case and at least two characters long.\n",
    "\n",
    "# Question 2.Create a function that takes an angle in radians and returns the corresponding angle in degrees rounded to one decimal place.\n",
    "# Examples\n",
    "# radians_to_degrees(1) ➞ 57.3\n",
    "\n",
    "# radians_to_degrees(20) ➞ 1145.9\n",
    "\n",
    "# radians_to_degrees(50) ➞ 2864.8\n",
    "\n",
    "\n",
    "# Question 3. In this challenge, establish if a given integer num is a Curzon number. If 1 plus 2 elevated to num is exactly divisible by 1 plus 2 multiplied by num, then num is a Curzon number.\n",
    "# Given a non-negative integer num, implement a function that returns True if num is a Curzon number, or False otherwise.\n",
    "# Examples\n",
    "# is_curzon(5) ➞ True\n",
    "# # 2 ** 5 + 1 = 33\n",
    "# # 2 * 5 + 1 = 11\n",
    "# # 33 is a multiple of 11\n",
    "\n",
    "# is_curzon(10) ➞ False\n",
    "# # 2 ** 10 + 1 = 1025\n",
    "# # 2 * 10 + 1 = 21\n",
    "# # 1025 is not a multiple of 21\n",
    "\n",
    "# is_curzon(14) ➞ True\n",
    "# # 2 ** 14 + 1 = 16385\n",
    "# # 2 * 14 + 1 = 29\n",
    "# # 16385 is a multiple of 29\n",
    "\n",
    "# Question 4.Given the side length x find the area of a hexagon.\n",
    " \n",
    "# Examples\n",
    "# area_of_hexagon(1) ➞ 2.6\n",
    "\n",
    "# area_of_hexagon(2) ➞ 10.4\n",
    "\n",
    "# area_of_hexagon(3) ➞ 23.4\n",
    "\n",
    "\n",
    "\n",
    "# Question 5. Create a function that returns a base-2 (binary) representation of a base-10 (decimal) string number. To convert is simple: ((2) means base-2 and (10) means base-10) 010101001(2) = 1 + 8 + 32 + 128.\n",
    "# Going from right to left, the value of the most right bit is 1, now from that every bit to the left will be x2 the value, value of an 8 bit binary numbers are (256, 128, 64, 32, 16, 8, 4, 2, 1).\n",
    "# Examples\n",
    "# binary(1) ➞ \"1\"\n",
    "# # 1*1 = 1\n",
    "\n",
    "# binary(5) ➞ \"101\"\n",
    "# # 1*1 + 1*4 = 5\n",
    "\n",
    "# binary(10) ➞ \"1010\"\n",
    "# # 1*2 + 1*8 = 10\n",
    "\n"
   ]
  },
  {
   "cell_type": "code",
   "execution_count": 3,
   "id": "54753856",
   "metadata": {},
   "outputs": [],
   "source": [
    "# Question1. Write a function that stutters a word as if someone is struggling to read it. \n",
    "# The first two letters are repeated twice with an ellipsis ... \n",
    "# and space after each, and then the word is pronounced with a question mark ?.\n",
    "# Examples\n",
    "# stutter(\"incredible\") ➞ \"in... in... incredible?\"\n",
    "\n",
    "# stutter(\"enthusiastic\") ➞ \"en... en... enthusiastic?\"\n",
    "\n",
    "# stutter(\"outstanding\") ➞ \"ou... ou... outstanding?\"\n",
    "\n",
    "# Hint :- Assume all input is in lower case and at least two characters long."
   ]
  },
  {
   "cell_type": "markdown",
   "id": "d3a66865",
   "metadata": {},
   "source": [
    "#### Answer 1 "
   ]
  },
  {
   "cell_type": "code",
   "execution_count": 6,
   "id": "ee9b0431",
   "metadata": {},
   "outputs": [],
   "source": [
    "def stutter(str1):\n",
    "    first_two= str1[0:2]\n",
    "    print(f\"{first_two}... {first_two}...{str1}?\")"
   ]
  },
  {
   "cell_type": "code",
   "execution_count": 10,
   "id": "bd4f77f1",
   "metadata": {},
   "outputs": [
    {
     "name": "stdout",
     "output_type": "stream",
     "text": [
      "Enter a stringincredible\n",
      "in... in...incredible?\n"
     ]
    }
   ],
   "source": [
    "str1 = input(\"Enter a string\")\n",
    "if len(str1) >=2:\n",
    "    stutter(str1)\n",
    "else:\n",
    "    stutter(\"String Should be at least two character long\")"
   ]
  },
  {
   "cell_type": "code",
   "execution_count": 11,
   "id": "46827342",
   "metadata": {},
   "outputs": [
    {
     "name": "stdout",
     "output_type": "stream",
     "text": [
      "en... en...enthusiastic?\n"
     ]
    }
   ],
   "source": [
    "str1=\"enthusiastic\"\n",
    "stutter(str1)"
   ]
  },
  {
   "cell_type": "code",
   "execution_count": 12,
   "id": "d7993479",
   "metadata": {},
   "outputs": [
    {
     "name": "stdout",
     "output_type": "stream",
     "text": [
      "ou... ou...outstanding?\n"
     ]
    }
   ],
   "source": [
    "str1=\"outstanding\"\n",
    "stutter(str1)"
   ]
  },
  {
   "cell_type": "code",
   "execution_count": 13,
   "id": "cc193c5e",
   "metadata": {},
   "outputs": [],
   "source": [
    "# Question 2.Create a function that takes an angle in radians and returns \n",
    "# the corresponding angle in degrees rounded to one decimal place.\n",
    "# Examples\n",
    "# radians_to_degrees(1) ➞ 57.3\n",
    "\n",
    "# radians_to_degrees(20) ➞ 1145.9\n",
    "\n",
    "# radians_to_degrees(50) ➞ 2864.8"
   ]
  },
  {
   "cell_type": "markdown",
   "id": "bf98c347",
   "metadata": {},
   "source": [
    "#### Answer 2"
   ]
  },
  {
   "cell_type": "code",
   "execution_count": 14,
   "id": "30f8f742",
   "metadata": {},
   "outputs": [],
   "source": [
    "import math\n",
    "def radians_to_degree(ra):\n",
    "    radians = ra * 180 / math.pi\n",
    "    return round(radians,2)"
   ]
  },
  {
   "cell_type": "code",
   "execution_count": 15,
   "id": "eb9f12d5",
   "metadata": {},
   "outputs": [
    {
     "data": {
      "text/plain": [
       "57.3"
      ]
     },
     "execution_count": 15,
     "metadata": {},
     "output_type": "execute_result"
    }
   ],
   "source": [
    "radians_to_degree(1)"
   ]
  },
  {
   "cell_type": "code",
   "execution_count": 16,
   "id": "565b4f8a",
   "metadata": {},
   "outputs": [
    {
     "data": {
      "text/plain": [
       "1145.92"
      ]
     },
     "execution_count": 16,
     "metadata": {},
     "output_type": "execute_result"
    }
   ],
   "source": [
    "radians_to_degree(20)"
   ]
  },
  {
   "cell_type": "code",
   "execution_count": 17,
   "id": "f718ac7e",
   "metadata": {},
   "outputs": [
    {
     "data": {
      "text/plain": [
       "2864.79"
      ]
     },
     "execution_count": 17,
     "metadata": {},
     "output_type": "execute_result"
    }
   ],
   "source": [
    "radians_to_degree(50)"
   ]
  },
  {
   "cell_type": "code",
   "execution_count": 19,
   "id": "76aaff25",
   "metadata": {},
   "outputs": [],
   "source": [
    "# Question 3. In this challenge, establish if a given integer num is a Curzon number. If 1 plus 2 elevated to num is exactly \n",
    "# divisible by 1 plus 2 multiplied by num, then num is a Curzon number.\n",
    "# Given a non-negative integer num, implement a function that returns True if num is a Curzon number, or False otherwise.\n",
    "# Examples\n",
    "# is_curzon(5) ➞ True\n",
    "# # 2 ** 5 + 1 = 33\n",
    "# # 2 * 5 + 1 = 11\n",
    "# # 33 is a multiple of 11\n",
    "\n",
    "# is_curzon(10) ➞ False\n",
    "# # 2 ** 10 + 1 = 1025\n",
    "# # 2 * 10 + 1 = 21\n",
    "# # 1025 is not a multiple of 21\n",
    "\n",
    "# is_curzon(14) ➞ True\n",
    "# # 2 ** 14 + 1 = 16385\n",
    "# # 2 * 14 + 1 = 29\n",
    "# # 16385 is a multiple of 29"
   ]
  },
  {
   "cell_type": "markdown",
   "id": "8482ce37",
   "metadata": {},
   "source": [
    "#### Answer 3"
   ]
  },
  {
   "cell_type": "code",
   "execution_count": 24,
   "id": "1af28f9b",
   "metadata": {},
   "outputs": [],
   "source": [
    "def curzon(num):\n",
    "    x = 2 ** num + 1\n",
    "    y = 2* num + 1\n",
    "    if x%y==0:\n",
    "        print(f\"{x} is multiple of {y}\")\n",
    "    else:\n",
    "        print(f\"{x} is not multiple of {y}\")"
   ]
  },
  {
   "cell_type": "code",
   "execution_count": 25,
   "id": "582fa27b",
   "metadata": {},
   "outputs": [
    {
     "name": "stdout",
     "output_type": "stream",
     "text": [
      "33 is multiple of 11\n"
     ]
    }
   ],
   "source": [
    "curzon(5)"
   ]
  },
  {
   "cell_type": "code",
   "execution_count": 26,
   "id": "fd1e2096",
   "metadata": {},
   "outputs": [
    {
     "name": "stdout",
     "output_type": "stream",
     "text": [
      "1025 is not multiple of 21\n"
     ]
    }
   ],
   "source": [
    "curzon(10)"
   ]
  },
  {
   "cell_type": "code",
   "execution_count": 27,
   "id": "98a224b7",
   "metadata": {},
   "outputs": [
    {
     "name": "stdout",
     "output_type": "stream",
     "text": [
      "16385 is multiple of 29\n"
     ]
    }
   ],
   "source": [
    "curzon(14)"
   ]
  },
  {
   "cell_type": "code",
   "execution_count": 28,
   "id": "9b95b47c",
   "metadata": {},
   "outputs": [],
   "source": [
    "# Question 4.Given the side length x find the area of a hexagon.\n",
    " \n",
    "# Examples\n",
    "# area_of_hexagon(1) ➞ 2.6\n",
    "\n",
    "# area_of_hexagon(2) ➞ 10.4\n",
    "\n",
    "# area_of_hexagon(3) ➞ 23.4"
   ]
  },
  {
   "cell_type": "markdown",
   "id": "a5896e19",
   "metadata": {},
   "source": [
    "#### Answer 4"
   ]
  },
  {
   "cell_type": "code",
   "execution_count": 29,
   "id": "974a90d2",
   "metadata": {},
   "outputs": [],
   "source": [
    "import math\n",
    "def area_of_hexagon(x):\n",
    "    area = (3 * math.sqrt(3) /2) * (x**2)\n",
    "    return area"
   ]
  },
  {
   "cell_type": "code",
   "execution_count": 36,
   "id": "7a344483",
   "metadata": {},
   "outputs": [
    {
     "data": {
      "text/plain": [
       "2.6"
      ]
     },
     "execution_count": 36,
     "metadata": {},
     "output_type": "execute_result"
    }
   ],
   "source": [
    "round(area_of_hexagon(1),1)"
   ]
  },
  {
   "cell_type": "code",
   "execution_count": 37,
   "id": "8db42c82",
   "metadata": {},
   "outputs": [
    {
     "data": {
      "text/plain": [
       "10.4"
      ]
     },
     "execution_count": 37,
     "metadata": {},
     "output_type": "execute_result"
    }
   ],
   "source": [
    "round(area_of_hexagon(2),1)"
   ]
  },
  {
   "cell_type": "code",
   "execution_count": 38,
   "id": "be10b6bd",
   "metadata": {},
   "outputs": [
    {
     "data": {
      "text/plain": [
       "23.4"
      ]
     },
     "execution_count": 38,
     "metadata": {},
     "output_type": "execute_result"
    }
   ],
   "source": [
    "round(area_of_hexagon(3),1)"
   ]
  },
  {
   "cell_type": "code",
   "execution_count": 40,
   "id": "2afaf5b4",
   "metadata": {},
   "outputs": [],
   "source": [
    "# Question 5. Create a function that returns a base-2 (binary) representation of \n",
    "# a base-10 (decimal) string number. \n",
    "# To convert is simple: ((2) means base-2 and (10) means base-10) 010101001(2) = 1 + 8 + 32 + 128.\n",
    "# Going from right to left,\n",
    "# the value of the most right bit is 1, now from that every bit to the left will be x2 the value, \n",
    "# value of an 8 bit binary numbers are (256, 128, 64, 32, 16, 8, 4, 2, 1).\n",
    "# Examples\n",
    "# binary(1) ➞ \"1\"\n",
    "# # 1*1 = 1\n",
    "\n",
    "# binary(5) ➞ \"101\"\n",
    "# # 1*1 + 1*4 = 5\n",
    "\n",
    "# binary(10) ➞ \"1010\"\n",
    "# # 1*2 + 1*8 = 10\n"
   ]
  },
  {
   "cell_type": "markdown",
   "id": "51c4d98e",
   "metadata": {},
   "source": [
    "#### Answer 5"
   ]
  },
  {
   "cell_type": "code",
   "execution_count": 61,
   "id": "81f40c09",
   "metadata": {},
   "outputs": [],
   "source": [
    "def binary(x):\n",
    "    list1=[]\n",
    "    while x>0:\n",
    "        temp = x%2\n",
    "        list1.append(temp)\n",
    "        x = x//2 \n",
    "    for num in list1[::-1]:\n",
    "        print(num,end=' ')"
   ]
  },
  {
   "cell_type": "code",
   "execution_count": 62,
   "id": "55942ea7",
   "metadata": {},
   "outputs": [
    {
     "name": "stdout",
     "output_type": "stream",
     "text": [
      "1 "
     ]
    }
   ],
   "source": [
    "binary(1)"
   ]
  },
  {
   "cell_type": "code",
   "execution_count": 63,
   "id": "428bbc02",
   "metadata": {},
   "outputs": [
    {
     "name": "stdout",
     "output_type": "stream",
     "text": [
      "1 0 1 "
     ]
    }
   ],
   "source": [
    "binary(5)"
   ]
  },
  {
   "cell_type": "code",
   "execution_count": 64,
   "id": "7962dac7",
   "metadata": {},
   "outputs": [
    {
     "name": "stdout",
     "output_type": "stream",
     "text": [
      "1 0 1 0 "
     ]
    }
   ],
   "source": [
    "binary(10)"
   ]
  },
  {
   "cell_type": "code",
   "execution_count": 65,
   "id": "52de67ae",
   "metadata": {},
   "outputs": [
    {
     "name": "stdout",
     "output_type": "stream",
     "text": [
      "1 0 0 0 0 "
     ]
    }
   ],
   "source": [
    "binary(16)"
   ]
  }
 ],
 "metadata": {
  "kernelspec": {
   "display_name": "Python 3 (ipykernel)",
   "language": "python",
   "name": "python3"
  },
  "language_info": {
   "codemirror_mode": {
    "name": "ipython",
    "version": 3
   },
   "file_extension": ".py",
   "mimetype": "text/x-python",
   "name": "python",
   "nbconvert_exporter": "python",
   "pygments_lexer": "ipython3",
   "version": "3.9.12"
  }
 },
 "nbformat": 4,
 "nbformat_minor": 5
}
