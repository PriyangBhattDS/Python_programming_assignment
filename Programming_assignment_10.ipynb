{
 "cells": [
  {
   "cell_type": "code",
   "execution_count": 1,
   "id": "d8c13126",
   "metadata": {},
   "outputs": [],
   "source": [
    "# 1.Write a Python program to find sum of elements in list?\n",
    "# 2.Write a Python program to  Multiply all numbers in the list?\n",
    "# 3.Write a Python program to find smallest number in a list?\n",
    "# 4.Write a Python program to find largest number in a list?\n",
    "# 5.Write a Python program to find second largest number in a list?\n",
    "# 6.Write a Python program to find N largest elements from a list?\n",
    "# 7.Write a Python program to print even numbers in a list?\n",
    "# 8.Write a Python program to print odd numbers in a List?\n",
    "# 9.Write a Python program to Remove empty List from List?\n",
    "# 10.Write a Python program to Cloning or Copying a list?\n",
    "# 11.Write a Python program to Count occurrences of an element in a list?"
   ]
  },
  {
   "cell_type": "markdown",
   "id": "59555898",
   "metadata": {},
   "source": [
    "##### 1.Write a Python program to find sum of elements in list?"
   ]
  },
  {
   "cell_type": "markdown",
   "id": "27ea49b2",
   "metadata": {},
   "source": [
    "##### Answer 1"
   ]
  },
  {
   "cell_type": "code",
   "execution_count": 3,
   "id": "5cc597fa",
   "metadata": {},
   "outputs": [],
   "source": [
    "list1 =[11,22,33,44,55,66,77,88]"
   ]
  },
  {
   "cell_type": "code",
   "execution_count": 4,
   "id": "829c202c",
   "metadata": {},
   "outputs": [
    {
     "name": "stdout",
     "output_type": "stream",
     "text": [
      "Sum of the element in the list 396\n"
     ]
    }
   ],
   "source": [
    "sum1=0\n",
    "for item in list1:\n",
    "    sum1 +=item\n",
    "print(f\"Sum of the element in the list {sum1}\")"
   ]
  },
  {
   "cell_type": "markdown",
   "id": "a338f33d",
   "metadata": {},
   "source": [
    "##### 2.Write a Python program to  Multiply all numbers in the list?"
   ]
  },
  {
   "cell_type": "markdown",
   "id": "cfa0396e",
   "metadata": {},
   "source": [
    "##### Answer 2"
   ]
  },
  {
   "cell_type": "code",
   "execution_count": 8,
   "id": "353cf3a5",
   "metadata": {},
   "outputs": [],
   "source": [
    "list1 =[11,22,33]"
   ]
  },
  {
   "cell_type": "code",
   "execution_count": 9,
   "id": "6f99d998",
   "metadata": {},
   "outputs": [
    {
     "name": "stdout",
     "output_type": "stream",
     "text": [
      "Sum of the element in the list 7986\n"
     ]
    }
   ],
   "source": [
    "mul=1\n",
    "for item in list1:\n",
    "    mul *=item\n",
    "print(f\"Sum of the element in the list {mul}\")"
   ]
  },
  {
   "cell_type": "markdown",
   "id": "2efc270a",
   "metadata": {},
   "source": [
    "##### 3.Write a Python program to find smallest number in a list?"
   ]
  },
  {
   "cell_type": "markdown",
   "id": "7e2bdc22",
   "metadata": {},
   "source": [
    "##### Answer 3"
   ]
  },
  {
   "cell_type": "code",
   "execution_count": 14,
   "id": "0f12884f",
   "metadata": {},
   "outputs": [],
   "source": [
    "list1 =[11,22,33,1,0,100,500,-1]"
   ]
  },
  {
   "cell_type": "code",
   "execution_count": 15,
   "id": "45affa64",
   "metadata": {},
   "outputs": [
    {
     "name": "stdout",
     "output_type": "stream",
     "text": [
      "Minimum Number in the list is -1\n"
     ]
    }
   ],
   "source": [
    "min1 = list1[0]\n",
    "for num in list1:\n",
    "    if num < min1:\n",
    "        min1 = num\n",
    "print(f\"Minimum Number in the list is {min1}\")"
   ]
  },
  {
   "cell_type": "markdown",
   "id": "bb705723",
   "metadata": {},
   "source": [
    "##### 4.Write a Python program to find largest number in a list?"
   ]
  },
  {
   "cell_type": "markdown",
   "id": "8acbcc42",
   "metadata": {},
   "source": [
    "##### Answer 4"
   ]
  },
  {
   "cell_type": "code",
   "execution_count": 16,
   "id": "d1c9a439",
   "metadata": {},
   "outputs": [],
   "source": [
    "list1 =[11,22,33,1,0,100,500,-1]"
   ]
  },
  {
   "cell_type": "code",
   "execution_count": 17,
   "id": "4bbfc644",
   "metadata": {},
   "outputs": [
    {
     "name": "stdout",
     "output_type": "stream",
     "text": [
      "Minimum Number in the list is 500\n"
     ]
    }
   ],
   "source": [
    "max1 = list1[0]\n",
    "for num in list1:\n",
    "    if num > max1:\n",
    "        max1 = num\n",
    "print(f\"Minimum Number in the list is {max1}\")"
   ]
  },
  {
   "cell_type": "markdown",
   "id": "ac85593e",
   "metadata": {},
   "source": [
    "##### 5.Write a Python program to find second largest number in a list?"
   ]
  },
  {
   "cell_type": "markdown",
   "id": "44548c36",
   "metadata": {},
   "source": [
    "##### Answer 5"
   ]
  },
  {
   "cell_type": "code",
   "execution_count": 27,
   "id": "220f003f",
   "metadata": {},
   "outputs": [
    {
     "name": "stdout",
     "output_type": "stream",
     "text": [
      "Second largest Number in the list is 500\n"
     ]
    }
   ],
   "source": [
    "list1 =[11,22,33,1,0,100,500,-1,1000]\n",
    "list1.sort()\n",
    "print(f\"Second largest Number in the list is {list1[-2]}\")"
   ]
  },
  {
   "cell_type": "markdown",
   "id": "08d76fb1",
   "metadata": {},
   "source": [
    "##### 6.Write a Python program to find N largest elements from a list?"
   ]
  },
  {
   "cell_type": "markdown",
   "id": "fed10a33",
   "metadata": {},
   "source": [
    "##### Answer 6"
   ]
  },
  {
   "cell_type": "code",
   "execution_count": 40,
   "id": "3d760633",
   "metadata": {},
   "outputs": [
    {
     "name": "stdout",
     "output_type": "stream",
     "text": [
      "Enter the largest number you want to find4\n",
      "[-1, 0, 1, 11, 22, 33, 100, 500, 1000]\n",
      "The larget number you are looking for is 33\n"
     ]
    }
   ],
   "source": [
    "list1 =[11,22,33,1,0,100,500,-1,1000]\n",
    "n = int(input(\"Enter the largest number you want to find\"))\n",
    "\n",
    "list1.sort()\n",
    "print(list1)\n",
    "\n",
    "for i in range(len(list1)):\n",
    "    if i==n:\n",
    "        print(f\"The larget number you are looking for is {list1[-i]}\")\n",
    "        break\n",
    "else:\n",
    "    print(\"Out of range\")"
   ]
  },
  {
   "cell_type": "markdown",
   "id": "0a11e297",
   "metadata": {},
   "source": [
    "##### 7.Write a Python program to print even numbers in a list?"
   ]
  },
  {
   "cell_type": "markdown",
   "id": "cda19c14",
   "metadata": {},
   "source": [
    "##### Answer 7"
   ]
  },
  {
   "cell_type": "code",
   "execution_count": 54,
   "id": "164b9e6a",
   "metadata": {},
   "outputs": [
    {
     "name": "stdout",
     "output_type": "stream",
     "text": [
      "Original list is [10, 11, 12, 13, 14, 15, 16, 17, 18, 19, 20]\n",
      "These many even numbers are present in the list\n",
      "10 12 14 16 18 20 "
     ]
    }
   ],
   "source": [
    "list1 = list(range(10,21))\n",
    "print(f\"Original list is {list1}\")\n",
    "print(f\"These many even numbers are present in the list\")\n",
    "for item in list1:\n",
    "    if item%2==0:\n",
    "        print(item,end=' ')"
   ]
  },
  {
   "cell_type": "markdown",
   "id": "4c030579",
   "metadata": {},
   "source": [
    "##### 8.Write a Python program to print odd numbers in a List?"
   ]
  },
  {
   "cell_type": "markdown",
   "id": "b980fbea",
   "metadata": {},
   "source": [
    "##### Answer 8"
   ]
  },
  {
   "cell_type": "code",
   "execution_count": 55,
   "id": "216c5635",
   "metadata": {},
   "outputs": [
    {
     "name": "stdout",
     "output_type": "stream",
     "text": [
      "Original list is [10, 11, 12, 13, 14, 15, 16, 17, 18, 19, 20]\n",
      "These many odd numbers are present in the list\n",
      "11 13 15 17 19 "
     ]
    }
   ],
   "source": [
    "list1 = list(range(10,21))\n",
    "print(f\"Original list is {list1}\")\n",
    "print(f\"These many odd numbers are present in the list\")\n",
    "for item in list1:\n",
    "    if item%2!=0:\n",
    "        print(item,end=' ')"
   ]
  },
  {
   "cell_type": "markdown",
   "id": "fd25900a",
   "metadata": {},
   "source": [
    "##### 9.Write a Python program to Remove empty List from List?"
   ]
  },
  {
   "cell_type": "markdown",
   "id": "5a25edfd",
   "metadata": {},
   "source": [
    "##### Answer 9"
   ]
  },
  {
   "cell_type": "code",
   "execution_count": 61,
   "id": "d104facc",
   "metadata": {},
   "outputs": [
    {
     "name": "stdout",
     "output_type": "stream",
     "text": [
      "List without empty list [[1, 2, 3, 4], [11, 12, 13], [1, 2, 3]]\n"
     ]
    }
   ],
   "source": [
    "list1 = [[1,2,3,4],[],[11,12,13],[1,2,3],[]]\n",
    "with_out_empty_list=[]\n",
    "for item in list1:\n",
    "    if len(item)==0:\n",
    "        continue\n",
    "    else:\n",
    "        with_out_empty_list.append(item)\n",
    "print(f\"List without empty list {with_out_empty_list}\")"
   ]
  },
  {
   "cell_type": "markdown",
   "id": "aea61ea7",
   "metadata": {},
   "source": [
    "##### 10.Write a Python program to Cloning or Copying a list?"
   ]
  },
  {
   "cell_type": "markdown",
   "id": "6becf98a",
   "metadata": {},
   "source": [
    "##### Answer 10"
   ]
  },
  {
   "cell_type": "markdown",
   "id": "05d4c0ac",
   "metadata": {},
   "source": [
    "##### Cloning the list"
   ]
  },
  {
   "cell_type": "code",
   "execution_count": 69,
   "id": "82cd1813",
   "metadata": {},
   "outputs": [
    {
     "name": "stdout",
     "output_type": "stream",
     "text": [
      "Element inside the list1 are [11, 22, 33, 44, 55]\n",
      "Element inside the list1 are [11, 22, 33, 44, 55]\n",
      "First is stored at memory location 2315944908608\n",
      "Second (cloned) is stored at memory location 2315944908608\n",
      "[11, 22, 888, 44, 55]\n",
      "[11, 22, 888, 44, 55]\n"
     ]
    }
   ],
   "source": [
    "list1 =[11,22,33,44,55]\n",
    "list2 =list1\n",
    "print(f\"Element inside the list1 are {list1}\")\n",
    "print(f\"Element inside the list1 are {list2}\")\n",
    "\n",
    "\n",
    "\n",
    "print(f\"First is stored at memory location {id(list1)}\")\n",
    "print(f\"Second (cloned) is stored at memory location {id(list1)}\")\n",
    "\n",
    "\n",
    "list1[2]=888\n",
    "\n",
    "print(list1)\n",
    "print(list2)"
   ]
  },
  {
   "cell_type": "markdown",
   "id": "bd20e582",
   "metadata": {},
   "source": [
    "##### Copying the list"
   ]
  },
  {
   "cell_type": "code",
   "execution_count": 71,
   "id": "1c1dc8c2",
   "metadata": {},
   "outputs": [
    {
     "name": "stdout",
     "output_type": "stream",
     "text": [
      "Element inside the list1 are [11, 22, 33, 44, 55]\n",
      "Element inside the list1 are [11, 22, 33, 44, 55]\n",
      "First is stored at memory location 2315945105408\n",
      "Second (cloned) is stored at memory location 2315945105408\n",
      "[11, 22, 888, 44, 55]\n",
      "[11, 22, 33, 44, 55]\n"
     ]
    }
   ],
   "source": [
    "list1 =[11,22,33,44,55]\n",
    "list2 =list1.copy()\n",
    "print(f\"Element inside the list1 are {list1}\")\n",
    "print(f\"Element inside the list1 are {list2}\")\n",
    "\n",
    "\n",
    "\n",
    "print(f\"First is stored at memory location {id(list1)}\")\n",
    "print(f\"Second (cloned) is stored at memory location {id(list1)}\")\n",
    "\n",
    "\n",
    "list1[2]=888\n",
    "\n",
    "print(list1)\n",
    "print(list2)"
   ]
  },
  {
   "cell_type": "markdown",
   "id": "8bc377c4",
   "metadata": {},
   "source": [
    "##### 11.Write a Python program to Count occurrences of an element in a list?"
   ]
  },
  {
   "cell_type": "markdown",
   "id": "bcd10f96",
   "metadata": {},
   "source": [
    "##### Asnwer 11"
   ]
  },
  {
   "cell_type": "code",
   "execution_count": 84,
   "id": "817898b9",
   "metadata": {},
   "outputs": [
    {
     "name": "stdout",
     "output_type": "stream",
     "text": [
      "Element 11 occured 2 times\n",
      "Element 11 occured 2 times\n",
      "Element 22 occured 1 times\n",
      "Element 33 occured 1 times\n",
      "Element 44 occured 1 times\n",
      "Element 55 occured 1 times\n",
      "Element 66 occured 3 times\n",
      "Element 66 occured 3 times\n",
      "Element 66 occured 3 times\n",
      "Element 77 occured 1 times\n"
     ]
    }
   ],
   "source": [
    "list1 =[11,11,22,33,44,55,66,66,66,77]\n",
    "i=0\n",
    "for item in list1:\n",
    "    print(f\"Element {item} occured {list1.count(item)} times\")"
   ]
  },
  {
   "cell_type": "markdown",
   "id": "4b12edd5",
   "metadata": {},
   "source": [
    "# OR"
   ]
  },
  {
   "cell_type": "code",
   "execution_count": 85,
   "id": "ccb434fa",
   "metadata": {},
   "outputs": [
    {
     "name": "stdout",
     "output_type": "stream",
     "text": [
      "Element 11 Occured 2 times\n",
      "Element 22 Occured 1 times\n",
      "Element 33 Occured 1 times\n",
      "Element 44 Occured 1 times\n",
      "Element 55 Occured 1 times\n",
      "Element 66 Occured 3 times\n",
      "Element 77 Occured 1 times\n"
     ]
    }
   ],
   "source": [
    "d= {}\n",
    "list1 =[11,11,22,33,44,55,66,66,66,77]\n",
    "\n",
    "for item in list1:\n",
    "    d[item] = d.get(item,0) + 1\n",
    "\n",
    "for key,value in d.items():\n",
    "    print(f\"Element {key} Occured {value} times\")"
   ]
  },
  {
   "cell_type": "code",
   "execution_count": null,
   "id": "f2f35b1b",
   "metadata": {},
   "outputs": [],
   "source": []
  }
 ],
 "metadata": {
  "kernelspec": {
   "display_name": "Python 3 (ipykernel)",
   "language": "python",
   "name": "python3"
  },
  "language_info": {
   "codemirror_mode": {
    "name": "ipython",
    "version": 3
   },
   "file_extension": ".py",
   "mimetype": "text/x-python",
   "name": "python",
   "nbconvert_exporter": "python",
   "pygments_lexer": "ipython3",
   "version": "3.9.12"
  }
 },
 "nbformat": 4,
 "nbformat_minor": 5
}
