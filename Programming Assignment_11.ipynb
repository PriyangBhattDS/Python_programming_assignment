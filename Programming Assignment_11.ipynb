{
 "cells": [
  {
   "cell_type": "code",
   "execution_count": 1,
   "metadata": {},
   "outputs": [],
   "source": [
    "# 1.Write a Python program to find words which are greater than given length k?\n",
    "# 2.Write a Python program for removing i-th character from a string?\n",
    "# 3.Write a Python program to split and join a string?\n",
    "# 4.Write a Python to check if a given string is binary string or not?\n",
    "# 5.Write a Python program to find uncommon words from two Strings?\n",
    "# 6.Write a Python to find all duplicate characters in string?\n",
    "# 7.Write a Python Program to check if a string contains any special character?"
   ]
  },
  {
   "cell_type": "markdown",
   "metadata": {},
   "source": [
    "##### 1. Write a Python program to find words which are greater than given length k?"
   ]
  },
  {
   "cell_type": "markdown",
   "metadata": {},
   "source": [
    "##### Answer 1"
   ]
  },
  {
   "cell_type": "code",
   "execution_count": 33,
   "metadata": {},
   "outputs": [
    {
     "name": "stdout",
     "output_type": "stream",
     "text": [
      "Enter length of the word you are searching for::6\n",
      "Python\n"
     ]
    }
   ],
   "source": [
    "str1 = \"Write a Python program to find words which are greater than given length k\"\n",
    "length = int(input(\"Enter length of the word you are searching for::\"))\n",
    "list1 = str1.split()\n",
    "d={}\n",
    "for word in list1:\n",
    "    d[word]=d.get(word,0) + len(word)\n",
    "#print(d)\n",
    "\n",
    "for key,value in d.items():\n",
    "    if value==length:\n",
    "        print(key)\n",
    "        break\n",
    "else:\n",
    "    print(f\"Not found any word with length {length}\")"
   ]
  },
  {
   "cell_type": "markdown",
   "metadata": {},
   "source": [
    "##### 2.Write a Python program for removing i-th character from a string?"
   ]
  },
  {
   "cell_type": "markdown",
   "metadata": {},
   "source": [
    "##### Answer 2"
   ]
  },
  {
   "cell_type": "code",
   "execution_count": 11,
   "metadata": {},
   "outputs": [
    {
     "name": "stdout",
     "output_type": "stream",
     "text": [
      "Enter Character index you want to change2\n",
      "Wrte a Python program for removing i-th character from a string?\n"
     ]
    }
   ],
   "source": [
    "str1 = \"Write a Python program for removing i-th character from a string?\"\n",
    "str2 = list(str1)\n",
    "n = int(input(\"Enter Character index you want to change\"))\n",
    "str2.pop(n)\n",
    "print(\"\".join(str2))"
   ]
  },
  {
   "cell_type": "markdown",
   "metadata": {},
   "source": [
    "##### 3.Write a Python program to split and join a string?"
   ]
  },
  {
   "cell_type": "markdown",
   "metadata": {},
   "source": [
    "##### Answer 3"
   ]
  },
  {
   "cell_type": "code",
   "execution_count": 47,
   "metadata": {},
   "outputs": [
    {
     "name": "stdout",
     "output_type": "stream",
     "text": [
      "-------------------------\n",
      "String after splitting\n",
      "-------------------------\n",
      "['Write', 'a', 'Python', 'program', 'to', 'split', 'and', 'join', 'a', 'string']\n",
      "-------------------------\n",
      "String After Joining\n",
      "-------------------------\n",
      "Write a Python program to split and join a string\n"
     ]
    }
   ],
   "source": [
    "str1 =\"Write a Python program to split and join a string\"\n",
    "splitted_str = str1.split()\n",
    "print(\"-------------------------\")\n",
    "print(f\"String after splitting\")\n",
    "print(\"-------------------------\")\n",
    "print(splitted_str)\n",
    "print(\"-------------------------\")\n",
    "print(f\"String After Joining\")\n",
    "print(\"-------------------------\")\n",
    "print(' '.join(splitted_str))"
   ]
  },
  {
   "cell_type": "markdown",
   "metadata": {},
   "source": [
    "##### 4.Write a Python to check if a given string is binary string or not?"
   ]
  },
  {
   "cell_type": "markdown",
   "metadata": {},
   "source": [
    "##### Answer 4"
   ]
  },
  {
   "cell_type": "code",
   "execution_count": 57,
   "metadata": {},
   "outputs": [
    {
     "name": "stdout",
     "output_type": "stream",
     "text": [
      "Not a binary string\n"
     ]
    }
   ],
   "source": [
    "str1 = \"20001\"\n",
    "count=0\n",
    "count1=0\n",
    "for item in str1:\n",
    "    if item>=\"0\" and item<=\"1\":\n",
    "        count=count+1\n",
    "    if item>=\"0\" and item<=\"9\":\n",
    "        count1 = count1 + 1\n",
    "if count==count1:\n",
    "    print(\"Binary String\")\n",
    "else:\n",
    "    print(\"Not a binary string\")"
   ]
  },
  {
   "cell_type": "markdown",
   "metadata": {},
   "source": [
    "# or"
   ]
  },
  {
   "cell_type": "code",
   "execution_count": 84,
   "metadata": {},
   "outputs": [
    {
     "name": "stdout",
     "output_type": "stream",
     "text": [
      "Binary String\n"
     ]
    }
   ],
   "source": [
    "str1 = \"10101\"\n",
    "flag = 0\n",
    "for item in str1:\n",
    "    if item!=\"0\" and item!=\"1\":\n",
    "        flag=1\n",
    "        break\n",
    "if flag==0:\n",
    "    print(\"Binary String\")\n",
    "else:\n",
    "    print(\"Not\")"
   ]
  },
  {
   "cell_type": "markdown",
   "metadata": {},
   "source": [
    "##### 5.Write a Python program to find uncommon words from two Strings?"
   ]
  },
  {
   "cell_type": "markdown",
   "metadata": {},
   "source": [
    "##### Answer 5"
   ]
  },
  {
   "cell_type": "code",
   "execution_count": 77,
   "metadata": {},
   "outputs": [
    {
     "name": "stdout",
     "output_type": "stream",
     "text": [
      " in the given two strings uncommon words are ['anil', 'rahul', 'are', 'do']\n"
     ]
    }
   ],
   "source": [
    "str1 = \"Hello how are you rahul ?\"\n",
    "str2 = \"Hello how do you do anil ?\"\n",
    "\n",
    "str1  = str1.split(\" \")\n",
    "str2  = str2.split(\" \")\n",
    "\n",
    "un_common = []\n",
    "for item in str1:\n",
    "    if item not in str2:\n",
    "        un_common.append(item)\n",
    "for item in str2:\n",
    "    if item not in str1:\n",
    "        un_common.append(item)\n",
    "print(f\" in the given two strings uncommon words are {list(set(un_common))}\")"
   ]
  },
  {
   "cell_type": "markdown",
   "metadata": {},
   "source": [
    "##### 6.Write a Python to find all duplicate characters in string?"
   ]
  },
  {
   "cell_type": "markdown",
   "metadata": {},
   "source": [
    "##### Answer 6"
   ]
  },
  {
   "cell_type": "code",
   "execution_count": 165,
   "metadata": {},
   "outputs": [
    {
     "name": "stdout",
     "output_type": "stream",
     "text": [
      "{'h': 2, 'e': 2, 'l': 4, 'o': 6, ' ': 4, 'a': 2, 'w': 1, 'r': 1, 'y': 1, 'u': 1}\n",
      "These characters are duplicated in the given string\n",
      "h e l o   a "
     ]
    }
   ],
   "source": [
    "str1 = \"Hello Allooo how are you\".lower()\n",
    "list1 = list(str1)\n",
    "d={}\n",
    "\n",
    "for item in list1:\n",
    "    d[item] = d.get(item,0) + 1\n",
    "print(d)\n",
    "duplicated =[]\n",
    "\n",
    "print(f\"These characters are duplicated in the given string\")\n",
    "for key,value in d.items():\n",
    "    if value > 1:\n",
    "        print(key, end=\" \")"
   ]
  },
  {
   "cell_type": "markdown",
   "metadata": {},
   "source": [
    "##### 7.Write a Python Program to check if a string contains any special character?"
   ]
  },
  {
   "cell_type": "markdown",
   "metadata": {},
   "source": [
    "##### Answer 7"
   ]
  },
  {
   "cell_type": "code",
   "execution_count": 189,
   "metadata": {},
   "outputs": [
    {
     "name": "stdout",
     "output_type": "stream",
     "text": [
      "priyang@bhatt!!!here contains some special characters\n"
     ]
    }
   ],
   "source": [
    "str1 = \"priyang@bhatt!!!here\".lower()\n",
    "str2 = \"priyangbhatthere\".lower()\n",
    "count=0\n",
    "for char in str1:\n",
    "    if char>=\"a\" and char<='z':\n",
    "        pass\n",
    "    elif char>='0' and char<='9':\n",
    "        pass\n",
    "    else:\n",
    "        #print(char)\n",
    "        count=1\n",
    "        break\n",
    "if count==1:\n",
    "    print(f\"{str1} contains some special characters\")\n",
    "else:\n",
    "    print(f\"{str1} don't contain some special characters\")"
   ]
  }
 ],
 "metadata": {
  "kernelspec": {
   "display_name": "Python 3",
   "language": "python",
   "name": "python3"
  },
  "language_info": {
   "codemirror_mode": {
    "name": "ipython",
    "version": 3
   },
   "file_extension": ".py",
   "mimetype": "text/x-python",
   "name": "python",
   "nbconvert_exporter": "python",
   "pygments_lexer": "ipython3",
   "version": "3.7.9"
  }
 },
 "nbformat": 4,
 "nbformat_minor": 5
}
