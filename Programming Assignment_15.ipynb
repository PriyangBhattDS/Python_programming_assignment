{
 "cells": [
  {
   "cell_type": "code",
   "execution_count": 1,
   "metadata": {},
   "outputs": [],
   "source": [
    "# Question 1:\n",
    "# Please write a program using generator to print the numbers \n",
    "# which can be divisible by 5 and 7 between 0 \n",
    "# and n in comma separated form while n is input by console.\n",
    "# Example:\n",
    "# If the following n is given as input to the program:\n",
    "# 100\n",
    "# Then, the output of the program should be:\n",
    "# 0,35,70\n",
    "\n",
    "# Question 2:\n",
    "# Please write a program using generator to print \n",
    "# the even numbers between 0 and n in comma separated \n",
    "# form while n is input by console.\n",
    "# Example:\n",
    "# If the following n is given as input to the program:\n",
    "# 10\n",
    "# Then, the output of the program should be:\n",
    "# 0,2,4,6,8,10\n",
    "\n",
    "# Question 3:\n",
    "# The Fibonacci Sequence is computed based on the following formula:\n",
    "# f(n)=0 if n=0\n",
    "# f(n)=1 if n=1\n",
    "# f(n)=f(n-1)+f(n-2) if n>1\n",
    "# Please write a program using list comprehension \n",
    "# to print the Fibonacci Sequence in comma separated form \n",
    "# with a given n input by console.\n",
    "# Example:\n",
    "# If the following n is given as input to the program:\n",
    "# 7\n",
    "\n",
    "# Then, the output of the program should be:\n",
    "# 0,1,1,2,3,5,8,13\n",
    "\n",
    "# Question 4:\n",
    "# Assuming that we have some email addresses in the \n",
    "# \"username@companyname.com\" format, \n",
    "# please write program to print the user name of \n",
    "# a given email address. Both user names and company \n",
    "# names are composed of letters only..\n",
    "\n",
    "# Example:\n",
    "# If the following email address is given as input to the program:\n",
    "# john@google.com\n",
    "# Then, the output of the program should be:\n",
    "# john\n",
    "\n",
    "# Question 5:\n",
    "# Define a class named Shape and its subclass Square. \n",
    "# The Square class has an init function which takes a length as argument.\n",
    "# Both classes have a area function which can print the area \n",
    "# of the shape where Shape's area is 0 by default."
   ]
  },
  {
   "cell_type": "code",
   "execution_count": 10,
   "metadata": {},
   "outputs": [],
   "source": [
    "# Question 1:\n",
    "# Please write a program using generator to print the numbers \n",
    "# which can be divisible by 5 and 7 between 0 \n",
    "# and n in comma separated form while n is input by console.\n",
    "# Example:\n",
    "# If the following n is given as input to the program:\n",
    "# 100\n",
    "# Then, the output of the program should be:\n",
    "# 0,35,70"
   ]
  },
  {
   "cell_type": "markdown",
   "metadata": {},
   "source": [
    "##### Answer 1"
   ]
  },
  {
   "cell_type": "code",
   "execution_count": 17,
   "metadata": {},
   "outputs": [],
   "source": [
    "def gen(num):\n",
    "    for i in range(0,num):\n",
    "        if i%5==0 and i%7==0:\n",
    "            yield i"
   ]
  },
  {
   "cell_type": "code",
   "execution_count": 26,
   "metadata": {},
   "outputs": [
    {
     "name": "stdout",
     "output_type": "stream",
     "text": [
      "Enter a Number100\n",
      "0 35 70 "
     ]
    }
   ],
   "source": [
    "num = int(input(\"Enter a Number\"))\n",
    "x = gen(num)\n",
    "for n in x:\n",
    "    print(n,end=' ')"
   ]
  },
  {
   "cell_type": "code",
   "execution_count": 27,
   "metadata": {},
   "outputs": [],
   "source": [
    "# Question 2:\n",
    "# Please write a program using generator to print \n",
    "# the even numbers between 0 and n in comma separated \n",
    "# form while n is input by console.\n",
    "# Example:\n",
    "# If the following n is given as input to the program:\n",
    "# 10\n",
    "# Then, the output of the program should be:\n",
    "# 0,2,4,6,8,10"
   ]
  },
  {
   "cell_type": "markdown",
   "metadata": {},
   "source": [
    "##### Answer 2"
   ]
  },
  {
   "cell_type": "code",
   "execution_count": 28,
   "metadata": {},
   "outputs": [],
   "source": [
    "def even(num):\n",
    "    for i in range(0,num):\n",
    "        if i%2==0:\n",
    "            yield i"
   ]
  },
  {
   "cell_type": "code",
   "execution_count": 43,
   "metadata": {},
   "outputs": [
    {
     "name": "stdout",
     "output_type": "stream",
     "text": [
      "Enter a Number10\n",
      "0 2 4 6 8 10 "
     ]
    }
   ],
   "source": [
    "num = int(input(\"Enter a Number\"))\n",
    "x = even(num+1)\n",
    "for n in x:\n",
    "    print(n,end=' ')"
   ]
  },
  {
   "cell_type": "code",
   "execution_count": 30,
   "metadata": {},
   "outputs": [],
   "source": [
    "# Question 3:\n",
    "# The Fibonacci Sequence is computed based on the following formula:\n",
    "# f(n)=0 if n=0\n",
    "# f(n)=1 if n=1\n",
    "# f(n)=f(n-1)+f(n-2) if n>1\n",
    "# Please write a program using list comprehension \n",
    "# to print the Fibonacci Sequence in comma separated form \n",
    "# with a given n input by console.\n",
    "# Example:\n",
    "# If the following n is given as input to the program:\n",
    "# 7\n",
    "\n",
    "# Then, the output of the program should be:\n",
    "# 0,1,1,2,3,5,8,13"
   ]
  },
  {
   "cell_type": "markdown",
   "metadata": {},
   "source": [
    "##### Answer 3"
   ]
  },
  {
   "cell_type": "code",
   "execution_count": 32,
   "metadata": {},
   "outputs": [],
   "source": [
    "def fib(n):\n",
    "    if n==0:\n",
    "        return 0\n",
    "    elif n==1:\n",
    "        return 1\n",
    "    else:\n",
    "        return fib(n-1)+fib(n-2)"
   ]
  },
  {
   "cell_type": "code",
   "execution_count": 42,
   "metadata": {},
   "outputs": [
    {
     "name": "stdout",
     "output_type": "stream",
     "text": [
      "Enter a Number7\n",
      "0 1 1 2 3 5 8 13 "
     ]
    }
   ],
   "source": [
    "n = int(input(\"Enter a Number\"))\n",
    "for i in range(n+1):\n",
    "    print(fib(i),end=' ')"
   ]
  },
  {
   "cell_type": "code",
   "execution_count": 31,
   "metadata": {},
   "outputs": [],
   "source": [
    "# Question 4:\n",
    "# Assuming that we have some email addresses in the \n",
    "# \"username@companyname.com\" format, \n",
    "# please write program to print the user name of \n",
    "# a given email address. Both user names and company \n",
    "# names are composed of letters only..\n",
    "\n",
    "# Example:\n",
    "# If the following email address is given as input to the program:\n",
    "# john@google.com\n",
    "# Then, the output of the program should be:\n",
    "# john\n"
   ]
  },
  {
   "cell_type": "markdown",
   "metadata": {},
   "source": [
    "##### Asnwer 4"
   ]
  },
  {
   "cell_type": "code",
   "execution_count": 57,
   "metadata": {},
   "outputs": [
    {
     "name": "stdout",
     "output_type": "stream",
     "text": [
      "Enter your email addressjohn@google.com\n",
      "john\n"
     ]
    }
   ],
   "source": [
    "email = input(\"Enter your email address\").split(\"@\")\n",
    "user=email[0]\n",
    "comp =email[1].split(\".\")\n",
    "# print(user)\n",
    "# print(comp[0])\n",
    "if user.isalpha() and comp[0].isalpha():\n",
    "    print(user)\n",
    "else:\n",
    "    pass"
   ]
  },
  {
   "cell_type": "code",
   "execution_count": 55,
   "metadata": {},
   "outputs": [],
   "source": [
    "# Question 5:\n",
    "# Define a class named Shape and its subclass Square. \n",
    "# The Square class has an init function which takes a length as argument.\n",
    "# Both classes have a area function which can print the area \n",
    "# of the shape where Shape's area is 0 by default."
   ]
  },
  {
   "cell_type": "code",
   "execution_count": 8,
   "metadata": {},
   "outputs": [],
   "source": [
    "class Shape:\n",
    "    def area(self):\n",
    "        return 0\n",
    "class Square(Shape):\n",
    "    def __init__(self,length):\n",
    "        self.length= length\n",
    "    def area(self):\n",
    "        print(f\"area of square is {self.length*self.length}\")"
   ]
  },
  {
   "cell_type": "code",
   "execution_count": 9,
   "metadata": {},
   "outputs": [
    {
     "name": "stdout",
     "output_type": "stream",
     "text": [
      "area of square is 4\n"
     ]
    }
   ],
   "source": [
    "s = Square(2)\n",
    "s.area()"
   ]
  },
  {
   "cell_type": "code",
   "execution_count": null,
   "metadata": {},
   "outputs": [],
   "source": []
  }
 ],
 "metadata": {
  "kernelspec": {
   "display_name": "Python 3",
   "language": "python",
   "name": "python3"
  },
  "language_info": {
   "codemirror_mode": {
    "name": "ipython",
    "version": 3
   },
   "file_extension": ".py",
   "mimetype": "text/x-python",
   "name": "python",
   "nbconvert_exporter": "python",
   "pygments_lexer": "ipython3",
   "version": "3.7.9"
  }
 },
 "nbformat": 4,
 "nbformat_minor": 4
}
