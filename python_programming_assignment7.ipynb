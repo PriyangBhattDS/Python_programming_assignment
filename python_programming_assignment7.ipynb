{
 "cells": [
  {
   "cell_type": "code",
   "execution_count": 1,
   "id": "8233e3b9",
   "metadata": {},
   "outputs": [],
   "source": [
    "# 1. Write a Python Program to find sum of array.\n",
    "# 2. Write a Python Program to find largest element in an array.\n",
    "# 3. Write a Python Program for array rotation.\n",
    "# 4. Write a Python Program to Split the array and add the first part to the end.\n",
    "# 5. Write a Python Program to check if given array is Monotonic."
   ]
  },
  {
   "cell_type": "markdown",
   "id": "45a6db55",
   "metadata": {},
   "source": [
    "###### 1. Write a Python Program to find sum of array."
   ]
  },
  {
   "cell_type": "markdown",
   "id": "bf40936e",
   "metadata": {},
   "source": [
    "##### Answer 1"
   ]
  },
  {
   "cell_type": "code",
   "execution_count": 2,
   "id": "ddab1603",
   "metadata": {},
   "outputs": [
    {
     "name": "stdout",
     "output_type": "stream",
     "text": [
      "Sum of array is 116\n"
     ]
    }
   ],
   "source": [
    "arr = [11,12,13,14,15,16,17,18]\n",
    "sum1=0\n",
    "for item in arr:\n",
    "    sum1=sum1+item\n",
    "print(f\"Sum of array is {sum1}\")"
   ]
  },
  {
   "cell_type": "markdown",
   "id": "b6afd396",
   "metadata": {},
   "source": [
    "##### 2. Write a Python Program to find largest element in an array."
   ]
  },
  {
   "cell_type": "markdown",
   "id": "ad778f5e",
   "metadata": {},
   "source": [
    "##### Answer 2"
   ]
  },
  {
   "cell_type": "code",
   "execution_count": 3,
   "id": "ede773c4",
   "metadata": {},
   "outputs": [
    {
     "name": "stdout",
     "output_type": "stream",
     "text": [
      "Largest element in the array is 1688\n"
     ]
    }
   ],
   "source": [
    "arr = [11,12,13,144,15,1688,17,1555]\n",
    "max1=arr[0]\n",
    "for item in arr:\n",
    "    if item>max1:\n",
    "        max1=item\n",
    "print(f\"Largest element in the array is {max1}\")"
   ]
  },
  {
   "cell_type": "markdown",
   "id": "b4ba33b4",
   "metadata": {},
   "source": [
    "##### 3. Write a Python Program for array rotation."
   ]
  },
  {
   "cell_type": "markdown",
   "id": "cb60355d",
   "metadata": {},
   "source": [
    "##### Answer 3"
   ]
  },
  {
   "cell_type": "code",
   "execution_count": 4,
   "id": "515c5b56",
   "metadata": {},
   "outputs": [
    {
     "name": "stdout",
     "output_type": "stream",
     "text": [
      "Input number of roation you want to perform2\n",
      "[17, 1555, 11, 12, 13, 144, 15, 1688]\n"
     ]
    }
   ],
   "source": [
    "arr = [11,12,13,144,15,1688,17,1555]\n",
    "k = int(input(\"Input number of roation you want to perform\"))\n",
    "new_arr=[]\n",
    "for i in range(0,len(arr)):\n",
    "    new_arr.append((arr[(i + (len(arr) - k)) % len(arr)]))\n",
    "print(new_arr)"
   ]
  },
  {
   "cell_type": "markdown",
   "id": "33874d07",
   "metadata": {},
   "source": [
    "##### 4. Write a Python Program to Split the array and add the first part to the end."
   ]
  },
  {
   "cell_type": "markdown",
   "id": "17f2e48c",
   "metadata": {},
   "source": [
    "##### Answer 4"
   ]
  },
  {
   "cell_type": "code",
   "execution_count": 5,
   "id": "12b1e12b",
   "metadata": {},
   "outputs": [
    {
     "name": "stdout",
     "output_type": "stream",
     "text": [
      "enter your split location::2\n",
      "[13, 15, 15, 1555, 11, 12]\n"
     ]
    }
   ],
   "source": [
    "import math\n",
    "arr = [11,12,13,15,15,1555]\n",
    "new_arr=[]\n",
    "n=int(input(\"enter your split location::\"))\n",
    "first_part = arr[:n]\n",
    "#print(first_part)\n",
    "second_part = arr[n:]\n",
    "#print(second_part)\n",
    "new_arr =  second_part + first_part \n",
    "print(new_arr)"
   ]
  },
  {
   "cell_type": "markdown",
   "id": "b2ccce1f",
   "metadata": {},
   "source": [
    "##### 5. Write a Python Program to check if given array is Monotonic."
   ]
  },
  {
   "cell_type": "markdown",
   "id": "249acf7a",
   "metadata": {},
   "source": [
    "##### Answer 5"
   ]
  },
  {
   "cell_type": "code",
   "execution_count": 6,
   "id": "a0844284",
   "metadata": {},
   "outputs": [
    {
     "name": "stdout",
     "output_type": "stream",
     "text": [
      "Enter elements of the Array in Square Bracket [] [11,12,13,15,15,1555]\n",
      "Array is Monotonic\n"
     ]
    }
   ],
   "source": [
    "arr = eval(input(\"Enter elements of the Array in Square Bracket [] \"))\n",
    "#arr = [11,12,13,15,15,1555]\n",
    "as_array = sorted(arr)\n",
    "des_array= sorted(arr,reverse=True)\n",
    "if arr==as_array or arr==des_array:\n",
    "    print(\"Array is Monotonic\")\n",
    "else:\n",
    "    print(\"Array is not Monottonic\")"
   ]
  },
  {
   "cell_type": "code",
   "execution_count": null,
   "id": "7140102e",
   "metadata": {},
   "outputs": [],
   "source": []
  }
 ],
 "metadata": {
  "kernelspec": {
   "display_name": "Python 3 (ipykernel)",
   "language": "python",
   "name": "python3"
  },
  "language_info": {
   "codemirror_mode": {
    "name": "ipython",
    "version": 3
   },
   "file_extension": ".py",
   "mimetype": "text/x-python",
   "name": "python",
   "nbconvert_exporter": "python",
   "pygments_lexer": "ipython3",
   "version": "3.9.12"
  }
 },
 "nbformat": 4,
 "nbformat_minor": 5
}
