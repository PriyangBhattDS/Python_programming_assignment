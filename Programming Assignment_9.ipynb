{
 "cells": [
  {
   "cell_type": "code",
   "execution_count": 1,
   "id": "646a5915",
   "metadata": {},
   "outputs": [],
   "source": [
    "# 1.Write a Python program to check if the given number is a Disarium Number?\n",
    "# 2.Write a Python program to print all disarium numbers between 1 to 100?\n",
    "# 3.Write a Python program to check if the given number is Happy Number?\n",
    "# 4.Write a Python program to print all happy numbers between 1 and 100?\n",
    "# 5.Write a Python program to determine whether the given number is a Harshad Number?\n",
    "# 6.Write a Python program to print all pronic numbers between 1 and 100?"
   ]
  },
  {
   "cell_type": "markdown",
   "id": "d2829b33",
   "metadata": {},
   "source": [
    "##### 1.Write a Python program to check if the given number is a Disarium Number?"
   ]
  },
  {
   "cell_type": "markdown",
   "id": "c9cd8263",
   "metadata": {},
   "source": [
    "##### Answer 1"
   ]
  },
  {
   "cell_type": "code",
   "execution_count": 2,
   "id": "6d8de3c0",
   "metadata": {},
   "outputs": [],
   "source": [
    "# A disarium number is a number in which the sum of the digits to \n",
    "# the power of their respective position is equal to the number itself \n",
    "# (position is counted from left to right starting from 1). \n",
    "# Example of a Disarium number is 175, 1¹ + 7² + 5³ = 1 + 49 + 125= 175 Hence,175 is a disarium"
   ]
  },
  {
   "cell_type": "code",
   "execution_count": 3,
   "id": "d46272f0",
   "metadata": {},
   "outputs": [
    {
     "name": "stdout",
     "output_type": "stream",
     "text": [
      "Enter Number to ckeck for disarium or not::175\n",
      "Number you have entered 175 is a disarium number\n"
     ]
    }
   ],
   "source": [
    "n = int(input(\"Enter Number to ckeck for disarium or not::\"))\n",
    "store=n\n",
    "sum1=0\n",
    "count= len(str(abs(n)))\n",
    "\n",
    "while n>0:\n",
    "    temp=n%10\n",
    "    sum1 = sum1 + temp**count\n",
    "    count=count-1\n",
    "    n=n//10\n",
    "if store==sum1:\n",
    "    print(f\"Number you have entered {store} is a disarium number\")\n",
    "else:\n",
    "    print(f\"Number you have entered {store} is not a disarium number\")"
   ]
  },
  {
   "cell_type": "markdown",
   "id": "e0534226",
   "metadata": {},
   "source": [
    "##### 2.Write a Python program to print all disarium numbers between 1 to 100?"
   ]
  },
  {
   "cell_type": "markdown",
   "id": "62049498",
   "metadata": {},
   "source": [
    "##### Answer 2"
   ]
  },
  {
   "cell_type": "code",
   "execution_count": 4,
   "id": "9bdf57f3",
   "metadata": {},
   "outputs": [
    {
     "name": "stdout",
     "output_type": "stream",
     "text": [
      "Enter starting range::1\n",
      "Enter ending range::200\n",
      "Disarium numbers for 1 and 200 are\n",
      "1 2 3 4 5 6 7 8 9 89 135 175 "
     ]
    }
   ],
   "source": [
    "n1 = int(input(\"Enter starting range::\"))\n",
    "n2= int(input(\"Enter ending range::\"))\n",
    "if n1<n2:\n",
    "    dis_num=[]\n",
    "    for num in range(n1,n2+1):\n",
    "        count=len(str(abs(num)))\n",
    "        store=num\n",
    "        sum1=0\n",
    "        while num>0:\n",
    "            temp=num%10\n",
    "            sum1 = sum1 + temp**count\n",
    "            count=count-1\n",
    "            num=num//10\n",
    "        if store==sum1:\n",
    "            dis_num.append(sum1)\n",
    "else:\n",
    "    print(\"Enter Proper range\")\n",
    "\n",
    "print(f\"Disarium numbers for {n1} and {n2} are\")\n",
    "for num in dis_num:\n",
    "    print(num,end=\" \")"
   ]
  },
  {
   "cell_type": "markdown",
   "id": "8d7b85db",
   "metadata": {},
   "source": [
    "##### 3.Write a Python program to check if the given number is Happy Number?"
   ]
  },
  {
   "cell_type": "markdown",
   "id": "2ddaf152",
   "metadata": {},
   "source": [
    "##### Answer 3"
   ]
  },
  {
   "cell_type": "code",
   "execution_count": 57,
   "id": "20f91af8",
   "metadata": {},
   "outputs": [
    {
     "name": "stdout",
     "output_type": "stream",
     "text": [
      "Enter Number to ckeck for happy number or not::86\n",
      "36\n",
      "100\n",
      "0\n",
      "0\n",
      "1\n",
      "86 is a happy number\n"
     ]
    }
   ],
   "source": [
    "n =int(input(\"Enter Number to ckeck for happy number or not::\"))\n",
    "x=n\n",
    "while x>=10:\n",
    "    sum=0\n",
    "    while x>0 :\n",
    "        r=x%10\n",
    "        sum = sum + (r**2)\n",
    "        x=x//10\n",
    "        print(sum)\n",
    "    x=sum\n",
    "if x==1:\n",
    "    print(n,\"is a happy number\")\n",
    "else:\n",
    "    print(n,\"is not a happy number\")"
   ]
  },
  {
   "cell_type": "markdown",
   "id": "f91a9ca9",
   "metadata": {},
   "source": [
    "##### 4.Write a Python program to print all happy numbers between 1 and 100?"
   ]
  },
  {
   "cell_type": "markdown",
   "id": "67a5d283",
   "metadata": {},
   "source": [
    "##### Answer 4"
   ]
  },
  {
   "cell_type": "code",
   "execution_count": 59,
   "id": "3f6007e3",
   "metadata": {},
   "outputs": [
    {
     "name": "stdout",
     "output_type": "stream",
     "text": [
      "Happy Numbers\n",
      "1 10 13 19 23 28 31 32 44 49 68 70 79 82 86 91 94 97 100 "
     ]
    }
   ],
   "source": [
    "happy_number=[]\n",
    "for i in range(1,101):\n",
    "    x=i\n",
    "    while x>=10:\n",
    "        sum=0\n",
    "        while x>0 :\n",
    "            r=x%10\n",
    "            sum = sum + (r**2)\n",
    "            x=x//10\n",
    "            #print(sum)\n",
    "        x=sum\n",
    "    if x==1:\n",
    "        happy_number.append(i)\n",
    "\n",
    "print(f\"Happy Numbers\")\n",
    "for num in happy_number:\n",
    "    print(num,end=' ')"
   ]
  },
  {
   "cell_type": "markdown",
   "id": "73590957",
   "metadata": {},
   "source": [
    "##### 5. Write a Python program to determine whether the given number is a Harshad Number?"
   ]
  },
  {
   "cell_type": "markdown",
   "id": "4d5f913a",
   "metadata": {},
   "source": [
    "##### Answer 5"
   ]
  },
  {
   "cell_type": "code",
   "execution_count": 69,
   "id": "258dfb1e",
   "metadata": {},
   "outputs": [
    {
     "name": "stdout",
     "output_type": "stream",
     "text": [
      "Enter Number to ckeck for happy number or not::156\n",
      "156 is a Harshad Number\n"
     ]
    }
   ],
   "source": [
    "n =int(input(\"Enter Number to ckeck for happy number or not::\"))\n",
    "x=n\n",
    "sum=0\n",
    "while x>0 :\n",
    "    r=x%10\n",
    "    sum = sum + r\n",
    "    x=x//10\n",
    "if n%sum ==0:\n",
    "    print(f\"{n} is a Harshad Number\")\n",
    "else:\n",
    "    print(f\"{n} is not a Harshad Number\")\n"
   ]
  },
  {
   "cell_type": "code",
   "execution_count": 70,
   "id": "2f5e58a9",
   "metadata": {},
   "outputs": [],
   "source": [
    "# Extra Harshad number in the range"
   ]
  },
  {
   "cell_type": "code",
   "execution_count": 88,
   "id": "034060dc",
   "metadata": {},
   "outputs": [],
   "source": [
    "harshad_num=[]\n",
    "for i in range(1,201):\n",
    "    store=i\n",
    "    sum1=0\n",
    "    while i>0:\n",
    "        r=i%10\n",
    "        sum1 = sum1 + r\n",
    "        i=i//10\n",
    "    if store%sum1==0:\n",
    "        harshad_num.append(store)"
   ]
  },
  {
   "cell_type": "code",
   "execution_count": 89,
   "id": "994f12cd",
   "metadata": {},
   "outputs": [
    {
     "name": "stdout",
     "output_type": "stream",
     "text": [
      "[1, 2, 3, 4, 5, 6, 7, 8, 9, 10, 12, 18, 20, 21, 24, 27, 30, 36, 40, 42, 45, 48, 50, 54, 60, 63, 70, 72, 80, 81, 84, 90, 100, 102, 108, 110, 111, 112, 114, 117, 120, 126, 132, 133, 135, 140, 144, 150, 152, 153, 156, 162, 171, 180, 190, 192, 195, 198, 200]\n"
     ]
    }
   ],
   "source": [
    "print(harshad_num)"
   ]
  },
  {
   "cell_type": "markdown",
   "id": "d45b3643",
   "metadata": {},
   "source": [
    "##### 6.Write a Python program to print all pronic numbers between 1 and 100?"
   ]
  },
  {
   "cell_type": "markdown",
   "id": "c17dd4a8",
   "metadata": {},
   "source": [
    "##### Answer 6"
   ]
  },
  {
   "cell_type": "code",
   "execution_count": 90,
   "id": "20369840",
   "metadata": {},
   "outputs": [],
   "source": [
    "# Pronic number is a number which is the product of two consecutive integers, that is, a number n is a product of x and (x+1). "
   ]
  },
  {
   "cell_type": "code",
   "execution_count": 126,
   "id": "f46e8cfe",
   "metadata": {},
   "outputs": [],
   "source": [
    "import math"
   ]
  },
  {
   "cell_type": "code",
   "execution_count": 136,
   "id": "a300cacf",
   "metadata": {},
   "outputs": [],
   "source": [
    "# n = int(input(\"Enter a Number\"))\n",
    "#     x = int(math.sqrt(n))\n",
    "#     if x * (x+1) == n:\n",
    "#         print(\"Pronic NUmber\")\n",
    "#     else:\n",
    "#         print(\"Not\")"
   ]
  },
  {
   "cell_type": "code",
   "execution_count": 137,
   "id": "8d3625e8",
   "metadata": {},
   "outputs": [],
   "source": [
    "pronic_num=[]\n",
    "for n in range(0,200):\n",
    "    x = int(math.sqrt(n))\n",
    "    if x * (x+1) == n:\n",
    "        pronic_num.append(n)\n",
    "    "
   ]
  },
  {
   "cell_type": "code",
   "execution_count": 138,
   "id": "cf85c3ae",
   "metadata": {},
   "outputs": [
    {
     "data": {
      "text/plain": [
       "[0, 2, 6, 12, 20, 30, 42, 56, 72, 90, 110, 132, 156, 182]"
      ]
     },
     "execution_count": 138,
     "metadata": {},
     "output_type": "execute_result"
    }
   ],
   "source": [
    "pronic_num"
   ]
  },
  {
   "cell_type": "code",
   "execution_count": null,
   "id": "ff06b7f3",
   "metadata": {},
   "outputs": [],
   "source": []
  }
 ],
 "metadata": {
  "kernelspec": {
   "display_name": "Python 3 (ipykernel)",
   "language": "python",
   "name": "python3"
  },
  "language_info": {
   "codemirror_mode": {
    "name": "ipython",
    "version": 3
   },
   "file_extension": ".py",
   "mimetype": "text/x-python",
   "name": "python",
   "nbconvert_exporter": "python",
   "pygments_lexer": "ipython3",
   "version": "3.9.12"
  }
 },
 "nbformat": 4,
 "nbformat_minor": 5
}
