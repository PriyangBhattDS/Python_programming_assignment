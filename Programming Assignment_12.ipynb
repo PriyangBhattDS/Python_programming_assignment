{
 "cells": [
  {
   "cell_type": "code",
   "execution_count": 1,
   "metadata": {},
   "outputs": [],
   "source": [
    "# 1.Write a Python program to Extract Unique values dictionary values?\n",
    "# 2.Write a Python program to find the sum of all items in a dictionary?\n",
    "# 3.Write a Python program to Merging two Dictionaries?\n",
    "# 4.Write a Python program to convert key-values list to flat dictionary?\n",
    "# 5.Write a Python program to insertion at the beginning in OrderedDict?\n",
    "# 6.Write a Python program to check order of character in string using OrderedDict()?\n",
    "# 7.Write a Python program to sort Python Dictionaries by Key or Value?"
   ]
  },
  {
   "cell_type": "markdown",
   "metadata": {},
   "source": [
    "##### 1.Write a Python program to Extract Unique values dictionary values."
   ]
  },
  {
   "cell_type": "markdown",
   "metadata": {},
   "source": [
    "##### Answer 1"
   ]
  },
  {
   "cell_type": "code",
   "execution_count": 18,
   "metadata": {},
   "outputs": [],
   "source": [
    "d = {'a':1,'b':1,'c':10,'d':100,'e':101,'d':100,'f':101}"
   ]
  },
  {
   "cell_type": "code",
   "execution_count": 19,
   "metadata": {},
   "outputs": [
    {
     "name": "stdout",
     "output_type": "stream",
     "text": [
      "Unique values are:: 10 100 "
     ]
    }
   ],
   "source": [
    "dict_values=[]\n",
    "uni_dict ={}\n",
    "for value in d.values():\n",
    "    dict_values.append(value)\n",
    "\n",
    "for item in dict_values:\n",
    "    uni_dict[item] = uni_dict.get(item,0) + 1\n",
    "\n",
    "print(f\"Unique values are::\", end=' ')\n",
    "for key,value in uni_dict.items():\n",
    "    if value==1:\n",
    "        print(key,end=' ')"
   ]
  },
  {
   "cell_type": "markdown",
   "metadata": {},
   "source": [
    "##### 2.Write a Python program to find the sum of all items in a dictionary?"
   ]
  },
  {
   "cell_type": "markdown",
   "metadata": {},
   "source": [
    "##### Answer 2"
   ]
  },
  {
   "cell_type": "code",
   "execution_count": 21,
   "metadata": {},
   "outputs": [
    {
     "name": "stdout",
     "output_type": "stream",
     "text": [
      "Sum of value in the given dictionary : 314\n"
     ]
    }
   ],
   "source": [
    "d = {'a':1,'b':1,'c':10,'d':100,'e':101,'f':101}\n",
    "sum1=0\n",
    "for value in d.values():\n",
    "    sum1 +=value\n",
    "print(f\"Sum of value in the given dictionary : {sum1}\")"
   ]
  },
  {
   "cell_type": "markdown",
   "metadata": {},
   "source": [
    "##### 3.Write a Python program to Merging two Dictionaries?"
   ]
  },
  {
   "cell_type": "markdown",
   "metadata": {},
   "source": [
    "##### Answer 3"
   ]
  },
  {
   "cell_type": "code",
   "execution_count": 25,
   "metadata": {},
   "outputs": [
    {
     "name": "stdout",
     "output_type": "stream",
     "text": [
      "{'a': 1, 'b': 1, 'c': 10, 'd': 100, 'e': 101, 'f': 100, 'g': 200}\n"
     ]
    }
   ],
   "source": [
    "d1 = {'a':1,'b':1,'c':10,'d':100,'e':101,'f':101}\n",
    "d2 = {'f':100,'g':200}\n",
    "\n",
    "d1.update(d2)\n",
    "print(d1)"
   ]
  },
  {
   "cell_type": "markdown",
   "metadata": {},
   "source": [
    "##### 4.Write a Python program to convert key-values list to flat dictionary?"
   ]
  },
  {
   "cell_type": "markdown",
   "metadata": {},
   "source": [
    "##### Answer 4"
   ]
  },
  {
   "cell_type": "code",
   "execution_count": 78,
   "metadata": {},
   "outputs": [
    {
     "name": "stdout",
     "output_type": "stream",
     "text": [
      "{'a': 11, 'b': 22, 'c': 33, 'd': 44, 'e': 55}\n"
     ]
    }
   ],
   "source": [
    "old_dict = {\n",
    "'keys' : ['a','b','c','d','e'],\n",
    "'values' : [11,22,33,44,55]\n",
    "}\n",
    "new_dict = {}\n",
    "list1 =[]\n",
    "for key in old_dict.keys():\n",
    "    list1.append(old_dict.get(key))\n",
    "keys = list1[0]\n",
    "values= list1[1]\n",
    "count=0\n",
    "for key in keys:\n",
    "    new_dict[key]=values[count]\n",
    "    count=count+1\n",
    "print(new_dict)"
   ]
  },
  {
   "cell_type": "markdown",
   "metadata": {},
   "source": [
    "##### 5.Write a Python program to insertion at the beginning in OrderedDict?"
   ]
  },
  {
   "cell_type": "markdown",
   "metadata": {},
   "source": [
    "##### Answer 5"
   ]
  },
  {
   "cell_type": "code",
   "execution_count": 14,
   "metadata": {},
   "outputs": [
    {
     "name": "stdout",
     "output_type": "stream",
     "text": [
      "OrderedDict([('priyang', '3'), ('a', 1), ('z', 2), ('c', 3), ('d', 4), ('e', 5)])\n"
     ]
    }
   ],
   "source": [
    "from collections import OrderedDict\n",
    "d = OrderedDict()\n",
    "d['a'] = 1\n",
    "d['z'] = 2\n",
    "d['c'] = 3\n",
    "d['d'] = 4\n",
    "d['e']= 5\n",
    "d.update({'priyang':'3'})\n",
    "d.move_to_end('priyang', last = False)\n",
    "print(d)"
   ]
  },
  {
   "cell_type": "markdown",
   "metadata": {},
   "source": [
    "##### 6.Write a Python program to check order of character in string using OrderedDict()?"
   ]
  },
  {
   "cell_type": "markdown",
   "metadata": {},
   "source": [
    "##### Answer 6"
   ]
  },
  {
   "cell_type": "code",
   "execution_count": 61,
   "metadata": {},
   "outputs": [
    {
     "name": "stdout",
     "output_type": "stream",
     "text": [
      "Please input the pattarn you want to checkho\n",
      "True\n"
     ]
    }
   ],
   "source": [
    "from collections import OrderedDict\n",
    "d1 = OrderedDict()\n",
    "str1 = \"Hello How are you\".lower()\n",
    "i=0\n",
    "for char in str1:\n",
    "    d1[char] = d1.get(char,i)\n",
    "    i +=1\n",
    "#print(d1)\n",
    "pat = input(\"Please input the pattarn you want to check\").lower()\n",
    "order =[]\n",
    "for char in pat:\n",
    "    order.append(d1[char])\n",
    "#print(order)\n",
    "\n",
    "if order == sorted(order):\n",
    "    print(\"True\")\n",
    "else:\n",
    "    print(\"False\")"
   ]
  },
  {
   "cell_type": "markdown",
   "metadata": {},
   "source": [
    "##### 7.Write a Python program to sort Python Dictionaries by Key or Value?"
   ]
  },
  {
   "cell_type": "markdown",
   "metadata": {},
   "source": [
    "##### Asnwer 7"
   ]
  },
  {
   "cell_type": "code",
   "execution_count": 68,
   "metadata": {},
   "outputs": [],
   "source": [
    "# Sorted by Keys"
   ]
  },
  {
   "cell_type": "code",
   "execution_count": 65,
   "metadata": {},
   "outputs": [],
   "source": [
    "d = {'a':1,'f':100,'z':1000,'c':200}"
   ]
  },
  {
   "cell_type": "code",
   "execution_count": 66,
   "metadata": {},
   "outputs": [],
   "source": [
    "sorted_dict ={}\n",
    "for key,value in sorted(d.items()):\n",
    "    sorted_dict[key]=value"
   ]
  },
  {
   "cell_type": "code",
   "execution_count": 67,
   "metadata": {},
   "outputs": [
    {
     "data": {
      "text/plain": [
       "{'a': 1, 'c': 200, 'f': 100, 'z': 1000}"
      ]
     },
     "execution_count": 67,
     "metadata": {},
     "output_type": "execute_result"
    }
   ],
   "source": [
    "sorted_dict"
   ]
  },
  {
   "cell_type": "code",
   "execution_count": 69,
   "metadata": {},
   "outputs": [],
   "source": [
    "# Sorted by value"
   ]
  },
  {
   "cell_type": "code",
   "execution_count": 121,
   "metadata": {},
   "outputs": [
    {
     "name": "stdout",
     "output_type": "stream",
     "text": [
      "{'b': 1, 'f': 100, 'c': 200, 'z': 1000}\n"
     ]
    }
   ],
   "source": [
    "d = {'a':1,'f':100,'z':1000,'c':200,'b':1}\n",
    "key1 =[]\n",
    "value1 =[]\n",
    "d1 = {}\n",
    "for key in d.keys():\n",
    "    key1.append(key)\n",
    "for value in d.values():\n",
    "    value1.append(value)\n",
    "i=0\n",
    "for value in value1:\n",
    "    d1[value] = key1[i]\n",
    "    i+=1\n",
    "#print(d1)\n",
    "\n",
    "sorted_dict ={}\n",
    "\n",
    "for key,value in sorted(d1.items()):\n",
    "    sorted_dict[value]=key\n",
    "print(sorted_dict)"
   ]
  }
 ],
 "metadata": {
  "kernelspec": {
   "display_name": "Python 3",
   "language": "python",
   "name": "python3"
  },
  "language_info": {
   "codemirror_mode": {
    "name": "ipython",
    "version": 3
   },
   "file_extension": ".py",
   "mimetype": "text/x-python",
   "name": "python",
   "nbconvert_exporter": "python",
   "pygments_lexer": "ipython3",
   "version": "3.7.9"
  }
 },
 "nbformat": 4,
 "nbformat_minor": 4
}
