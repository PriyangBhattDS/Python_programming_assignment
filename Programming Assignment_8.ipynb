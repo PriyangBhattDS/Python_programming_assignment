{
 "cells": [
  {
   "cell_type": "code",
   "execution_count": 1,
   "id": "d563c16f",
   "metadata": {},
   "outputs": [],
   "source": [
    "# 1. Write a Python Program to Add Two Matrices?\n",
    "# 2. Write a Python Program to Multiply Two Matrices?\n",
    "# 3. Write a Python Program to Transpose a Matrix?\n",
    "# 4. Write a Python Program to Sort Words in Alphabetic Order?\n",
    "# 5. Write a Python Program to Remove Punctuation From a String?"
   ]
  },
  {
   "cell_type": "markdown",
   "id": "456e4305",
   "metadata": {},
   "source": [
    "##### 1. Write a Python Program to Add Two Matrices"
   ]
  },
  {
   "cell_type": "markdown",
   "id": "fd5be059",
   "metadata": {},
   "source": [
    "##### Answer 1"
   ]
  },
  {
   "cell_type": "code",
   "execution_count": 80,
   "id": "00030be9",
   "metadata": {},
   "outputs": [
    {
     "name": "stdout",
     "output_type": "stream",
     "text": [
      "After Addition Matrics\n",
      "[12, 14, 16]\n",
      "[18, 20, 22]\n",
      "[24, 26, 28]\n"
     ]
    }
   ],
   "source": [
    "m1 = [[1,2,3],\n",
    "      [4,5,6],\n",
    "      [7,8,9]]\n",
    "\n",
    "m2 = [[11,12,13],\n",
    "      [14,15,16],\n",
    "      [17,18,19]]\n",
    "\n",
    "m3 =[[0,0,0],\n",
    "     [0,0,0],\n",
    "     [0,0,0]]\n",
    "\n",
    "for i in range(len(m1)):\n",
    "    for j in range(len(m2)):\n",
    "         m3[i][j]=m1[i][j] + m2[i][j]\n",
    "print(f\"After Addition Matrics\")\n",
    "for items in m3:\n",
    "    print(items)"
   ]
  },
  {
   "cell_type": "markdown",
   "id": "e17ffaf3",
   "metadata": {},
   "source": [
    "##### 2. Write a Python Program to Multiply Two Matrices"
   ]
  },
  {
   "cell_type": "markdown",
   "id": "35f97894",
   "metadata": {},
   "source": [
    "##### Answer 2"
   ]
  },
  {
   "cell_type": "code",
   "execution_count": 88,
   "id": "ff4ba0fb",
   "metadata": {},
   "outputs": [
    {
     "name": "stdout",
     "output_type": "stream",
     "text": [
      "After Addition Matrics\n",
      "[48, 51, 54]\n",
      "[57, 60, 63]\n",
      "[66, 69, 72]\n"
     ]
    }
   ],
   "source": [
    "m1 = [[1,2,3],\n",
    "      [4,5,6],\n",
    "      [7,8,9]]\n",
    "\n",
    "m2 = [[11,12,13],\n",
    "      [14,15,16],\n",
    "      [17,18,19]]\n",
    "\n",
    "\n",
    "m3 =[[0,0,0],\n",
    "     [0,0,0],\n",
    "     [0,0,0]]\n",
    "\n",
    "for i in range(len(m1)):\n",
    "    for j in range(len(m2[0])):\n",
    "        for k in range(len(m2)):\n",
    "            m3[i][j] +=m1[i][k] + m2[k][j]\n",
    "print(f\"After Addition Matrics\")\n",
    "for items in m3:\n",
    "    print(items)"
   ]
  },
  {
   "cell_type": "markdown",
   "id": "44b25d99",
   "metadata": {},
   "source": [
    "##### 3. Write a Python Program to Transpose a Matrix."
   ]
  },
  {
   "cell_type": "markdown",
   "id": "09ba7bdd",
   "metadata": {},
   "source": [
    "##### Answer 3"
   ]
  },
  {
   "cell_type": "code",
   "execution_count": 113,
   "id": "e96c375f",
   "metadata": {},
   "outputs": [
    {
     "name": "stdout",
     "output_type": "stream",
     "text": [
      "[1, 4, 7]\n",
      "[2, 5, 8]\n",
      "[3, 6, 9]\n"
     ]
    }
   ],
   "source": [
    "m1 = [[1,2,3],\n",
    "      [4,5,6],\n",
    "      [7,8,9]]\n",
    "\n",
    "m3 =[[0,0,0],\n",
    "     [0,0,0],\n",
    "     [0,0,0]]\n",
    "\n",
    "for i in range(len(m1)):\n",
    "    for j in range(len(m1[1])):\n",
    "        m3[j][i]=m1[i][j]\n",
    "    \n",
    "for item in m3:\n",
    "    print(item)"
   ]
  },
  {
   "cell_type": "markdown",
   "id": "d03ad55d",
   "metadata": {},
   "source": [
    "##### 4. Write a Python Program to Sort Words in Alphabetic Order?"
   ]
  },
  {
   "cell_type": "markdown",
   "id": "2747c407",
   "metadata": {},
   "source": [
    "##### Answer 4"
   ]
  },
  {
   "cell_type": "code",
   "execution_count": 114,
   "id": "000a61d7",
   "metadata": {},
   "outputs": [],
   "source": [
    "words = [\"one\",\"two\",\"three\",\"four\",\"five\"]"
   ]
  },
  {
   "cell_type": "code",
   "execution_count": 115,
   "id": "c7800020",
   "metadata": {},
   "outputs": [
    {
     "name": "stdout",
     "output_type": "stream",
     "text": [
      "['five', 'four', 'one', 'three', 'two']\n"
     ]
    }
   ],
   "source": [
    "print(sorted(words))"
   ]
  },
  {
   "cell_type": "markdown",
   "id": "f0cf032f",
   "metadata": {},
   "source": [
    "##### 5. Write a Python Program to Remove Punctuation From a String?"
   ]
  },
  {
   "cell_type": "markdown",
   "id": "80412510",
   "metadata": {},
   "source": [
    "##### Answer 5"
   ]
  },
  {
   "cell_type": "code",
   "execution_count": 130,
   "id": "31c55666",
   "metadata": {},
   "outputs": [
    {
     "name": "stdout",
     "output_type": "stream",
     "text": [
      "Enter a stringpriyang;bhatt:\n",
      "Final string without punctuation is priyangbhatt\n"
     ]
    }
   ],
   "source": [
    "import string\n",
    "final_string =\"\"\n",
    "input_str = input(\"Enter a string\")\n",
    "\n",
    "for char in input_str:\n",
    "    if char in string.punctuation:\n",
    "        continue\n",
    "    else:\n",
    "        final_string +=char\n",
    "print(f\"Final string without punctuation is {final_string}\")"
   ]
  },
  {
   "cell_type": "code",
   "execution_count": null,
   "id": "d323c3a0",
   "metadata": {},
   "outputs": [],
   "source": []
  }
 ],
 "metadata": {
  "kernelspec": {
   "display_name": "Python 3 (ipykernel)",
   "language": "python",
   "name": "python3"
  },
  "language_info": {
   "codemirror_mode": {
    "name": "ipython",
    "version": 3
   },
   "file_extension": ".py",
   "mimetype": "text/x-python",
   "name": "python",
   "nbconvert_exporter": "python",
   "pygments_lexer": "ipython3",
   "version": "3.9.12"
  }
 },
 "nbformat": 4,
 "nbformat_minor": 5
}
