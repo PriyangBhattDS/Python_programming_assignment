{
 "cells": [
  {
   "cell_type": "code",
   "execution_count": 1,
   "metadata": {},
   "outputs": [],
   "source": [
    "# 1.Write a Python program to print \"Hello Python\"?\n",
    "# 2.Write a Python program to do arithmetical operations addition and division.?\n",
    "# 3.Write a Python program to find the area of a triangle?\n",
    "# 4.Write a Python program to swap two variables?\n",
    "# 5.Write a Python program to generate a random number?\n"
   ]
  },
  {
   "cell_type": "markdown",
   "metadata": {},
   "source": [
    "##### 1.Write a Python program to print \"Hello Python\""
   ]
  },
  {
   "cell_type": "markdown",
   "metadata": {},
   "source": [
    "##### Answer 1"
   ]
  },
  {
   "cell_type": "code",
   "execution_count": 2,
   "metadata": {},
   "outputs": [
    {
     "name": "stdout",
     "output_type": "stream",
     "text": [
      "Hello Python\n"
     ]
    }
   ],
   "source": [
    "print(\"Hello Python\")"
   ]
  },
  {
   "cell_type": "markdown",
   "metadata": {},
   "source": [
    "##### 2.Write a Python program to do arithmetical operations addition and division."
   ]
  },
  {
   "cell_type": "markdown",
   "metadata": {},
   "source": [
    "##### Answer 2"
   ]
  },
  {
   "cell_type": "code",
   "execution_count": 6,
   "metadata": {},
   "outputs": [
    {
     "name": "stdout",
     "output_type": "stream",
     "text": [
      "Enter Number 1 : 12\n",
      "Enter Number 2 : 5\n",
      "Addtion of number 12.0 and 5.0 is 17.0\n",
      "Division of number 12.0 and 5.0 is 2.4\n"
     ]
    }
   ],
   "source": [
    "n1 = float(input(\"Enter Number 1 : \"))\n",
    "n2 = float(input(\"Enter Number 2 : \"))\n",
    "\n",
    "add = n1+n2\n",
    "div = n1/n2\n",
    "\n",
    "print(f\"Addtion of number {n1} and {n2} is {add}\")\n",
    "print(f\"Division of number {n1} and {n2} is {div}\")"
   ]
  },
  {
   "cell_type": "markdown",
   "metadata": {},
   "source": [
    "##### 3.Write a Python program to find the area of a triangle"
   ]
  },
  {
   "cell_type": "markdown",
   "metadata": {},
   "source": [
    "##### Answer 3"
   ]
  },
  {
   "cell_type": "code",
   "execution_count": 8,
   "metadata": {},
   "outputs": [
    {
     "name": "stdout",
     "output_type": "stream",
     "text": [
      "Enter a Radius (integer)5\n",
      "Area of circle is 78.54 with raduis 5\n"
     ]
    }
   ],
   "source": [
    "import math\n",
    "radius = int(input(\"Enter a Radius (integer)\"))\n",
    "\n",
    "area = math.pi * radius * radius\n",
    "\n",
    "print(f\"Area of circle is {round(area,2)} with raduis {radius}\")"
   ]
  },
  {
   "cell_type": "markdown",
   "metadata": {},
   "source": [
    "##### 4.Write a Python program to swap two variables"
   ]
  },
  {
   "cell_type": "markdown",
   "metadata": {},
   "source": [
    "##### Answer 4"
   ]
  },
  {
   "cell_type": "code",
   "execution_count": 10,
   "metadata": {},
   "outputs": [
    {
     "name": "stdout",
     "output_type": "stream",
     "text": [
      "Enter first Number:10\n",
      "Enter Second Number:20\n",
      "After swaping 10 is 20\n",
      "After Swaping 20 is 10\n"
     ]
    }
   ],
   "source": [
    "num1 = int(input(\"Enter first Number:\"))\n",
    "num2 = int(input(\"Enter Second Number:\"))\n",
    "\n",
    "num1,num2=num2,num1\n",
    "\n",
    "print(f\"After swaping {num2} is {num1}\")\n",
    "print(f\"After Swaping {num1} is {num2}\")"
   ]
  },
  {
   "cell_type": "markdown",
   "metadata": {},
   "source": [
    "##### 5.Write a Python program to generate a random number"
   ]
  },
  {
   "cell_type": "markdown",
   "metadata": {},
   "source": [
    "##### Answer 5"
   ]
  },
  {
   "cell_type": "code",
   "execution_count": 17,
   "metadata": {},
   "outputs": [],
   "source": [
    "import random"
   ]
  },
  {
   "cell_type": "code",
   "execution_count": 18,
   "metadata": {},
   "outputs": [
    {
     "name": "stdout",
     "output_type": "stream",
     "text": [
      "0.5574960185246332\n"
     ]
    }
   ],
   "source": [
    "print(random.random())"
   ]
  }
 ],
 "metadata": {
  "kernelspec": {
   "display_name": "Python 3",
   "language": "python",
   "name": "python3"
  },
  "language_info": {
   "codemirror_mode": {
    "name": "ipython",
    "version": 3
   },
   "file_extension": ".py",
   "mimetype": "text/x-python",
   "name": "python",
   "nbconvert_exporter": "python",
   "pygments_lexer": "ipython3",
   "version": "3.7.9"
  }
 },
 "nbformat": 4,
 "nbformat_minor": 4
}
