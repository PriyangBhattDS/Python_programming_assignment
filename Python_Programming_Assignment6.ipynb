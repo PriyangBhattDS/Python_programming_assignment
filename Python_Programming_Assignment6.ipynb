{
 "cells": [
  {
   "cell_type": "code",
   "execution_count": 41,
   "id": "88b7b84f",
   "metadata": {},
   "outputs": [],
   "source": [
    "# 1. Write a Python Program to Display Fibonacci Sequence Using Recursion.\n",
    "# 2. Write a Python Program to Find Factorial of Number Using Recursion.\n",
    "# 3. Write a Python Program to calculate your Body Mass Index.\n",
    "# 4. Write a Python Program to calculate the natural logarithm of any number.\n",
    "# 5. Write a Python Program for cube sum of first n natural numbers."
   ]
  },
  {
   "cell_type": "markdown",
   "id": "e040e641",
   "metadata": {},
   "source": [
    "##### Q.1 Write a Python Program to Display Fibonacci Sequence Using Recursion?"
   ]
  },
  {
   "cell_type": "markdown",
   "id": "e40e6a5e",
   "metadata": {},
   "source": [
    "##### Answer 1"
   ]
  },
  {
   "cell_type": "code",
   "execution_count": 42,
   "id": "e633164e",
   "metadata": {},
   "outputs": [],
   "source": [
    "def fib(n):\n",
    "    if n<=1:\n",
    "        return 1\n",
    "    else:\n",
    "        return fib(n-1) + fib(n-2)\n",
    "    "
   ]
  },
  {
   "cell_type": "code",
   "execution_count": 44,
   "id": "e50c5858",
   "metadata": {},
   "outputs": [
    {
     "name": "stdout",
     "output_type": "stream",
     "text": [
      "Enter a number::5\n",
      "1 1 2 3 5 "
     ]
    }
   ],
   "source": [
    "n=int(input(\"Enter a number::\"))\n",
    "for i in range(n): \n",
    "    print(fib(i),end=\" \")"
   ]
  },
  {
   "cell_type": "markdown",
   "id": "a342686a",
   "metadata": {},
   "source": [
    "##### Q.2 Write a Python Program to Find Factorial of Number Using Recursion"
   ]
  },
  {
   "cell_type": "markdown",
   "id": "b0562d09",
   "metadata": {},
   "source": [
    "##### Answer 2"
   ]
  },
  {
   "cell_type": "code",
   "execution_count": 45,
   "id": "3fefcd49",
   "metadata": {},
   "outputs": [],
   "source": [
    "def fact(n):\n",
    "    if n<=0:\n",
    "        return 1\n",
    "    else:\n",
    "        return(n*fact(n-1))"
   ]
  },
  {
   "cell_type": "code",
   "execution_count": 46,
   "id": "c4342bb2",
   "metadata": {},
   "outputs": [
    {
     "name": "stdout",
     "output_type": "stream",
     "text": [
      "Enter a number5\n",
      "Factorial of 5 is 120\n"
     ]
    }
   ],
   "source": [
    "n=int(input(\"Enter a number\"))\n",
    "print(f\"Factorial of {n} is {fact(n)}\")"
   ]
  },
  {
   "cell_type": "markdown",
   "id": "96b0512e",
   "metadata": {},
   "source": [
    "##### Q.3 Write a Python Program to calculate your Body Mass Index?"
   ]
  },
  {
   "cell_type": "markdown",
   "id": "12d0416d",
   "metadata": {},
   "source": [
    "##### Answer 3"
   ]
  },
  {
   "cell_type": "code",
   "execution_count": 47,
   "id": "5e394faf",
   "metadata": {},
   "outputs": [
    {
     "name": "stdout",
     "output_type": "stream",
     "text": [
      "Enter your weight in kilogram(Kg)64\n",
      "Enter your height in meter(m)5.8\n",
      "your wight is 64.0 KG and height is 5.8 Feet, your BMI value is 1.9\n"
     ]
    }
   ],
   "source": [
    "weight = float(input(\"Enter your weight in kilogram(Kg)\"))\n",
    "height = float(input(\"Enter your height in meter(m)\"))\n",
    "\n",
    "\n",
    "bmi = weight/(height * height)\n",
    "\n",
    "print(f\"your wight is {weight} KG and height is {height} Feet, your BMI value is {round(bmi,2)}\")"
   ]
  },
  {
   "cell_type": "markdown",
   "id": "4a6ab7e0",
   "metadata": {},
   "source": [
    "##### 4. Write a Python Program to calculate the natural logarithm of any number."
   ]
  },
  {
   "cell_type": "markdown",
   "id": "dbfe9e7f",
   "metadata": {},
   "source": [
    "##### Answer 4"
   ]
  },
  {
   "cell_type": "code",
   "execution_count": 27,
   "id": "1ffd0e15",
   "metadata": {},
   "outputs": [
    {
     "name": "stdout",
     "output_type": "stream",
     "text": [
      "Enter a number12\n",
      "Natural logarithm of 12 is 2.48\n"
     ]
    }
   ],
   "source": [
    "import math\n",
    "n = int(input(\"Enter a number\"))\n",
    "print(f\"Natural logarithm of {n} is {round(math.log(n),2)}\")"
   ]
  },
  {
   "cell_type": "markdown",
   "id": "fb8c88a3",
   "metadata": {},
   "source": [
    "##### 5.Write a Python Program for cube sum of first n natural numbers"
   ]
  },
  {
   "cell_type": "markdown",
   "id": "68a1dca4",
   "metadata": {},
   "source": [
    "##### Answer 5"
   ]
  },
  {
   "cell_type": "code",
   "execution_count": 40,
   "id": "854b08a1",
   "metadata": {},
   "outputs": [
    {
     "name": "stdout",
     "output_type": "stream",
     "text": [
      "Enter a number4\n",
      "Cube sum of first 4 natural number is 100\n"
     ]
    }
   ],
   "source": [
    "n = int(input(\"Enter a number\"))\n",
    "sum1=0\n",
    "for i in range(1,n+1):\n",
    "    sum1=sum1 + (i*i*i)\n",
    "print(f\"Cube sum of first {n} natural number is {sum1}\")"
   ]
  }
 ],
 "metadata": {
  "kernelspec": {
   "display_name": "Python 3 (ipykernel)",
   "language": "python",
   "name": "python3"
  },
  "language_info": {
   "codemirror_mode": {
    "name": "ipython",
    "version": 3
   },
   "file_extension": ".py",
   "mimetype": "text/x-python",
   "name": "python",
   "nbconvert_exporter": "python",
   "pygments_lexer": "ipython3",
   "version": "3.9.12"
  }
 },
 "nbformat": 4,
 "nbformat_minor": 5
}
