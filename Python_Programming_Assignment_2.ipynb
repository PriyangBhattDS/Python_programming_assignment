{
 "cells": [
  {
   "cell_type": "code",
   "execution_count": null,
   "id": "e881740c",
   "metadata": {},
   "outputs": [],
   "source": [
    "# 1. Write a Python program to convert kilometers to miles?\n",
    "# 2. Write a Python program to convert Celsius to Fahrenheit?\n",
    "# 3. Write a Python program to display calendar?\n",
    "# 4. Write a Python program to solve quadratic equation?\n",
    "# 5. Write a Python program to swap two variables without temp variable?"
   ]
  },
  {
   "cell_type": "markdown",
   "id": "dcf9df3a",
   "metadata": {},
   "source": [
    "##### Q.1 Write a Python program to convert kilometers to miles"
   ]
  },
  {
   "cell_type": "markdown",
   "id": "0d09b5fa",
   "metadata": {},
   "source": [
    "##### Answer 2"
   ]
  },
  {
   "cell_type": "code",
   "execution_count": 5,
   "id": "a9c32d50",
   "metadata": {},
   "outputs": [
    {
     "name": "stdout",
     "output_type": "stream",
     "text": [
      "Enter a Value in kilometers100\n",
      "100.0 Kilometers= 62.14 miles\n"
     ]
    }
   ],
   "source": [
    "kilo_meters = float(input(\"Enter a Value in kilometers\"))\n",
    "\n",
    "miles = kilo_meters * 0.621371  # (i have taken this conversion factor from google (0.621371))\n",
    "\n",
    "print(f\"{kilo_meters} Kilometers= {round(miles,2)} miles\")"
   ]
  },
  {
   "cell_type": "markdown",
   "id": "746f9c11",
   "metadata": {},
   "source": [
    "##### Q.2. Write a Python program to convert Celsius to Fahrenheit?"
   ]
  },
  {
   "cell_type": "markdown",
   "id": "8109084a",
   "metadata": {},
   "source": [
    "##### Answer 2"
   ]
  },
  {
   "cell_type": "code",
   "execution_count": 7,
   "id": "5dad95bc",
   "metadata": {},
   "outputs": [
    {
     "name": "stdout",
     "output_type": "stream",
     "text": [
      "Enter celsius value (you can enter floating point number)1\n",
      "1.0 Celsius is equal to 33.8 Fahrenheit\n"
     ]
    }
   ],
   "source": [
    "celsius = float(input(\"Enter celsius value (you can enter floating point number)\"))\n",
    "fahren = (celsius * 1.8) + 32\n",
    "\n",
    "print(f\"{celsius} Celsius is equal to {fahren} Fahrenheit\")"
   ]
  },
  {
   "cell_type": "markdown",
   "id": "af0ca5fd",
   "metadata": {},
   "source": [
    "##### Q.3 Write a Python program to display calendar"
   ]
  },
  {
   "cell_type": "markdown",
   "id": "b869c70b",
   "metadata": {},
   "source": [
    "##### Answer 3"
   ]
  },
  {
   "cell_type": "code",
   "execution_count": 20,
   "id": "444f5b7b",
   "metadata": {},
   "outputs": [],
   "source": [
    "import calendar"
   ]
  },
  {
   "cell_type": "code",
   "execution_count": 42,
   "id": "b919b5a1",
   "metadata": {},
   "outputs": [
    {
     "name": "stdout",
     "output_type": "stream",
     "text": [
      "Enter Year ::22\n",
      "Enter Month (integer value)::10\n",
      "     October 22\n",
      "Mo Tu We Th Fr Sa Su\n",
      "                1  2\n",
      " 3  4  5  6  7  8  9\n",
      "10 11 12 13 14 15 16\n",
      "17 18 19 20 21 22 23\n",
      "24 25 26 27 28 29 30\n",
      "31\n",
      "\n"
     ]
    }
   ],
   "source": [
    "year =int(input(\"Enter Year ::\"))\n",
    "month =int(input(\"Enter Month (integer value)::\"))\n",
    "print(calendar.month(year,month))"
   ]
  },
  {
   "cell_type": "markdown",
   "id": "dc3d6515",
   "metadata": {},
   "source": [
    "##### 4. Write a Python program to solve quadratic equation?"
   ]
  },
  {
   "cell_type": "code",
   "execution_count": 17,
   "id": "083f900d",
   "metadata": {},
   "outputs": [
    {
     "name": "stdout",
     "output_type": "stream",
     "text": [
      "Input value of a::2\n",
      "Input value of b::4\n",
      "Input value of b::-16\n",
      "discriminant\n",
      "Root1=2.0\n",
      "Root2=-4.0\n"
     ]
    }
   ],
   "source": [
    "import math\n",
    "a=int(input(\"Input value of a::\"))\n",
    "b=int(input(\"Input value of b::\"))\n",
    "c=int(input(\"Input value of b::\"))\n",
    "discriminant = b*b-4*a*c\n",
    "print(f\"discriminant\")\n",
    "if discriminant<0:\n",
    "    print(f\"Roots are Imaginary\")\n",
    "else:\n",
    "    root1= (-b + math.sqrt(discriminant))/(2*a)\n",
    "    root2= (-b - math.sqrt(discriminant))/(2*a)\n",
    "    print(f\"Root1={root1}\")\n",
    "    print(f\"Root2={root2}\")"
   ]
  },
  {
   "cell_type": "markdown",
   "id": "ba6b139d",
   "metadata": {},
   "source": [
    "##### 5. Write a Python program to swap two variables without temp variable"
   ]
  },
  {
   "cell_type": "markdown",
   "id": "4e367c4e",
   "metadata": {},
   "source": [
    "##### Answer 5"
   ]
  },
  {
   "cell_type": "code",
   "execution_count": 16,
   "id": "2df37bfa",
   "metadata": {},
   "outputs": [
    {
     "name": "stdout",
     "output_type": "stream",
     "text": [
      "Enter Value 1::10\n",
      "Enter Value 2::20\n",
      "First Value after swaping is 20\n",
      "Second Value after swaping is 10\n"
     ]
    }
   ],
   "source": [
    "a=int(input(\"Enter Value 1::\"))\n",
    "b=int(input(\"Enter Value 2::\"))\n",
    "a,b=b,a\n",
    "print(f\"First Value after swaping is {a}\")\n",
    "print(f\"Second Value after swaping is {b}\")"
   ]
  }
 ],
 "metadata": {
  "kernelspec": {
   "display_name": "Python 3 (ipykernel)",
   "language": "python",
   "name": "python3"
  },
  "language_info": {
   "codemirror_mode": {
    "name": "ipython",
    "version": 3
   },
   "file_extension": ".py",
   "mimetype": "text/x-python",
   "name": "python",
   "nbconvert_exporter": "python",
   "pygments_lexer": "ipython3",
   "version": "3.9.12"
  }
 },
 "nbformat": 4,
 "nbformat_minor": 5
}
