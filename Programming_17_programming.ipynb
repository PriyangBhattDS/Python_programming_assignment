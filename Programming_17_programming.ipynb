{
 "cells": [
  {
   "cell_type": "code",
   "execution_count": 1,
   "id": "117ad168",
   "metadata": {},
   "outputs": [],
   "source": [
    "# Question1. Create a function that takes three arguments a, b, c and returns the sum of the numbers that are evenly divided by c from the range a, b inclusive.\n",
    "# Examples\n",
    "# evenly_divisible(1, 10, 20) ➞ 0\n",
    "# # No number between 1 and 10 can be evenly divided by 20.\n",
    "\n",
    "# evenly_divisible(1, 10, 2) ➞ 30\n",
    "# # 2 + 4 + 6 + 8 + 10 = 30\n",
    "\n",
    "# evenly_divisible(1, 10, 3) ➞ 18\n",
    "# # 3 + 6 + 9 = 18\n",
    "\n",
    "\n",
    "# Question2. Create a function that returns True if a given inequality expression is correct and False otherwise.\n",
    "# Examples\n",
    "# correct_signs(\"3 < 7 < 11\") ➞ True\n",
    "\n",
    "# correct_signs(\"13 > 44 > 33 > 1\") ➞ False\n",
    "\n",
    "# correct_signs(\"1 < 2 < 6 < 9 > 3\") ➞ True\n",
    "\n",
    "# Question3. Create a function that replaces all the vowels in a string with a specified character.\n",
    "# Examples\n",
    "# replace_vowels(\"the aardvark\", \"#\") ➞ \"th# ##rdv#rk\"\n",
    "\n",
    "# replace_vowels(\"minnie mouse\", \"?\") ➞ \"m?nn?? m??s?\"\n",
    "\n",
    "# replace_vowels(\"shakespeare\", \"*\") ➞ \"sh*k*sp**r*\"\n",
    "\n",
    "# Question4. Write a function that calculates the factorial of a number recursively.\n",
    "# Examples\n",
    "# factorial(5) ➞ 120\n",
    "\n",
    "# factorial(3) ➞ 6\n",
    "\n",
    "# factorial(1) ➞ 1\n",
    "\n",
    "# factorial(0) ➞ 1\n",
    "\n",
    "# Question 5\n",
    "# Hamming distance is the number of characters that differ between two strings.\n",
    "# To illustrate:\n",
    "# String1: \"abcbba\"\n",
    "# String2: \"abcbda\"\n",
    "\n",
    "# Hamming Distance: 1 - \"b\" vs. \"d\" is the only difference.\n",
    "# Create a function that computes the hamming distance between two strings.\n",
    "# Examples\n",
    "# hamming_distance(\"abcde\", \"bcdef\") ➞ 5\n",
    "\n",
    "# hamming_distance(\"abcde\", \"abcde\") ➞ 0\n",
    "\n",
    "# hamming_distance(\"strong\", \"strung\") ➞ 1\n",
    "\n"
   ]
  },
  {
   "cell_type": "code",
   "execution_count": 2,
   "id": "04e8a7a7",
   "metadata": {},
   "outputs": [],
   "source": [
    "# Question1. Create a function that takes three arguments a, b, c and returns the sum of the numbers \n",
    "# that are evenly divided by c from the range a, b inclusive.\n",
    "# Examples\n",
    "# evenly_divisible(1, 10, 20) ➞ 0\n",
    "# # No number between 1 and 10 can be evenly divided by 20.\n",
    "\n",
    "# evenly_divisible(1, 10, 2) ➞ 30\n",
    "# # 2 + 4 + 6 + 8 + 10 = 30\n",
    "\n",
    "# evenly_divisible(1, 10, 3) ➞ 18\n",
    "# # 3 + 6 + 9 = 18"
   ]
  },
  {
   "cell_type": "markdown",
   "id": "ae0e1432",
   "metadata": {},
   "source": [
    "#### Answer 1"
   ]
  },
  {
   "cell_type": "code",
   "execution_count": 3,
   "id": "66b9624f",
   "metadata": {},
   "outputs": [],
   "source": [
    "def evenly_divisible(a,b,c):\n",
    "    sum1=0\n",
    "    for i in range(a,b+1):\n",
    "        if i%c==0:\n",
    "            sum1=sum1+i\n",
    "    return sum1"
   ]
  },
  {
   "cell_type": "code",
   "execution_count": 8,
   "id": "b83fb1d4",
   "metadata": {},
   "outputs": [
    {
     "name": "stdout",
     "output_type": "stream",
     "text": [
      "Enter value of a1\n",
      "Enter value of b10\n",
      "Enter value of a3\n",
      "18\n"
     ]
    }
   ],
   "source": [
    "a=int(input(\"Enter value of a\"))\n",
    "b=int(input(\"Enter value of b\"))\n",
    "c=int(input(\"Enter value of a\"))\n",
    "print(evenly_divisible(a, b, c))"
   ]
  },
  {
   "cell_type": "code",
   "execution_count": 9,
   "id": "057b70c0",
   "metadata": {},
   "outputs": [],
   "source": [
    "# Question2. Create a function that returns True if a given inequality expression is correct and False otherwise.\n",
    "# Examples\n",
    "# correct_signs(\"3 < 7 < 11\") ➞ True\n",
    "\n",
    "# correct_signs(\"13 > 44 > 33 > 1\") ➞ False\n",
    "\n",
    "# correct_signs(\"1 < 2 < 6 < 9 > 3\") ➞ True\n"
   ]
  },
  {
   "cell_type": "markdown",
   "id": "a353c57b",
   "metadata": {},
   "source": [
    "#### Answer 2"
   ]
  },
  {
   "cell_type": "code",
   "execution_count": 149,
   "id": "0c8ab4ee",
   "metadata": {},
   "outputs": [],
   "source": [
    "def correct_signs(str1):\n",
    "    x = eval(str1)\n",
    "    print(x)"
   ]
  },
  {
   "cell_type": "code",
   "execution_count": 152,
   "id": "cf78c4f2",
   "metadata": {},
   "outputs": [
    {
     "name": "stdout",
     "output_type": "stream",
     "text": [
      "True\n"
     ]
    }
   ],
   "source": [
    "#correct_signs(\"3 < 7 < 11\")\n",
    "# correct_signs(\"13 > 44 > 33 > 1\")\n",
    "correct_signs(\"1 < 2 < 6 < 9 > 3\")"
   ]
  },
  {
   "cell_type": "code",
   "execution_count": 10,
   "id": "8c8e93cd",
   "metadata": {},
   "outputs": [],
   "source": [
    "# Question3. Create a function that replaces all the vowels in a string with a specified character.\n",
    "# Examples\n",
    "# replace_vowels(\"the aardvark\", \"#\") ➞ \"th# ##rdv#rk\"\n",
    "\n",
    "# replace_vowels(\"minnie mouse\", \"?\") ➞ \"m?nn?? m??s?\"\n",
    "\n",
    "# replace_vowels(\"shakespeare\", \"*\") ➞ \"sh*k*sp**r*\""
   ]
  },
  {
   "cell_type": "markdown",
   "id": "c17ecf25",
   "metadata": {},
   "source": [
    "#### Answer 3"
   ]
  },
  {
   "cell_type": "code",
   "execution_count": 134,
   "id": "f29cc006",
   "metadata": {},
   "outputs": [
    {
     "name": "stdout",
     "output_type": "stream",
     "text": [
      "sh*k*sp**r*"
     ]
    }
   ],
   "source": [
    "str2=[]\n",
    "def replace_vowels(str1,sign):\n",
    "    for item in str1:\n",
    "        str2.append(item)\n",
    "   \n",
    "    for i in range(0,len(str2)):\n",
    "        if str2[i]=='a' or str2[i]==\"e\" or str2[i]=='i' or str2[i]=='o' or str2[i]=='u':\n",
    "            str2[i]=sign\n",
    "    return str2\n",
    "output=replace_vowels(\"shakespeare\", \"*\")\n",
    "for item in output:\n",
    "    print(item,end='')"
   ]
  },
  {
   "cell_type": "code",
   "execution_count": 135,
   "id": "f7930791",
   "metadata": {},
   "outputs": [],
   "source": [
    "# Question4. Write a function that calculates the factorial of a number recursively.\n",
    "# Examples\n",
    "# factorial(5) ➞ 120\n",
    "\n",
    "# factorial(3) ➞ 6\n",
    "\n",
    "# factorial(1) ➞ 1\n",
    "\n",
    "# factorial(0) ➞ 1"
   ]
  },
  {
   "cell_type": "markdown",
   "id": "e9370201",
   "metadata": {},
   "source": [
    "#### Answer 4"
   ]
  },
  {
   "cell_type": "code",
   "execution_count": 136,
   "id": "805b9416",
   "metadata": {},
   "outputs": [],
   "source": [
    "def factorial(num):\n",
    "    fact=1\n",
    "    for i in range(1,num+1):\n",
    "        fact=fact*i\n",
    "    return fact"
   ]
  },
  {
   "cell_type": "code",
   "execution_count": 138,
   "id": "fdac1034",
   "metadata": {},
   "outputs": [
    {
     "data": {
      "text/plain": [
       "6"
      ]
     },
     "execution_count": 138,
     "metadata": {},
     "output_type": "execute_result"
    }
   ],
   "source": [
    "factorial(3)"
   ]
  },
  {
   "cell_type": "code",
   "execution_count": 139,
   "id": "a32f88bf",
   "metadata": {},
   "outputs": [
    {
     "data": {
      "text/plain": [
       "1"
      ]
     },
     "execution_count": 139,
     "metadata": {},
     "output_type": "execute_result"
    }
   ],
   "source": [
    "factorial(0)"
   ]
  },
  {
   "cell_type": "code",
   "execution_count": null,
   "id": "470b27b8",
   "metadata": {},
   "outputs": [],
   "source": [
    "# Question 5\n",
    "# Hamming distance is the number of characters that differ between two strings.\n",
    "# To illustrate:\n",
    "# String1: \"abcbba\"\n",
    "# String2: \"abcbda\"\n",
    "\n",
    "# Hamming Distance: 1 - \"b\" vs. \"d\" is the only difference.\n",
    "# Create a function that computes the hamming distance between two strings.\n",
    "# Examples\n",
    "# hamming_distance(\"abcde\", \"bcdef\") ➞ 5\n",
    "\n",
    "# hamming_distance(\"abcde\", \"abcde\") ➞ 0\n",
    "\n",
    "# hamming_distance(\"strong\", \"strung\") ➞ 1\n"
   ]
  },
  {
   "cell_type": "markdown",
   "id": "046d5942",
   "metadata": {},
   "source": [
    "#### Answer 5"
   ]
  },
  {
   "cell_type": "code",
   "execution_count": 142,
   "id": "9a999aa6",
   "metadata": {},
   "outputs": [],
   "source": [
    "def hamming_distance(str1,str2):\n",
    "    if len(str1) != len(str2):\n",
    "        return false\n",
    "    else:\n",
    "        count=0\n",
    "        for x,y in zip(str1,str2):\n",
    "            if x!=y:\n",
    "                count=count+1\n",
    "        print(count)"
   ]
  },
  {
   "cell_type": "code",
   "execution_count": 145,
   "id": "05d42ced",
   "metadata": {},
   "outputs": [
    {
     "name": "stdout",
     "output_type": "stream",
     "text": [
      "1\n"
     ]
    }
   ],
   "source": [
    "# hamming_distance(\"abcde\", \"bcdef\")\n",
    "# hamming_distance(\"abcde\", \"abcde\")\n",
    "hamming_distance(\"strong\", \"strung\")"
   ]
  },
  {
   "cell_type": "code",
   "execution_count": null,
   "id": "084b6b6e",
   "metadata": {},
   "outputs": [],
   "source": []
  }
 ],
 "metadata": {
  "kernelspec": {
   "display_name": "Python 3 (ipykernel)",
   "language": "python",
   "name": "python3"
  },
  "language_info": {
   "codemirror_mode": {
    "name": "ipython",
    "version": 3
   },
   "file_extension": ".py",
   "mimetype": "text/x-python",
   "name": "python",
   "nbconvert_exporter": "python",
   "pygments_lexer": "ipython3",
   "version": "3.9.12"
  }
 },
 "nbformat": 4,
 "nbformat_minor": 5
}
